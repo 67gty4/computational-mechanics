{
 "cells": [
  {
   "cell_type": "markdown",
   "id": "f502fb5b",
   "metadata": {},
   "source": [
    "# Initial Value Problems - Project\n",
    "\n",
    "![Initial condition of firework with FBD and sum of momentum](../images/firework.png)"
   ]
  },
  {
   "cell_type": "markdown",
   "id": "b7c9d3ca",
   "metadata": {},
   "source": [
    "We are going to end this module with a __bang__ by looking at the flight path of a firework. Shown above is the initial condition of a firework, the _Freedom Flyer_ in (a), its final height where it detonates in (b), the applied forces in the __Free Body Diagram (FBD)__ in (c), and the __momentum__ of the firework $m\\mathbf{v}$ and the propellent $dm \\mathbf{u}$ in (d). \n",
    "\n",
    "The resulting equation of motion is that the acceleration is proportional to the speed of the propellent and the mass rate change $\\frac{dm}{dt}$ as such\n",
    "\n",
    "$$\\begin{equation}\n",
    "m\\frac{dv}{dt} = u\\frac{dm}{dt} -mg - cv^2.~~~~~~~~(1)\n",
    "\\end{equation}$$\n",
    "\n",
    "If we assume that the acceleration and the propellent momentum are much greater than the forces of gravity and drag, then the equation is simplified to the conservation of momentum. A further simplification is that the speed of the propellant is constant, $u=constant$, then the equation can be integrated to obtain an analytical rocket equation solution of [Tsiolkovsky](https://www.math24.net/rocket-motion/) [1,2], \n",
    "\n",
    "$$\\begin{equation}\n",
    "m\\frac{dv}{dt} = u\\frac{dm}{dt}~~~~~(2.a)\n",
    "\\end{equation}$$\n",
    "\n",
    "$$\\begin{equation}\n",
    "\\frac{m_{f}}{m_{0}}=e^{-\\Delta v / u},~~~~~(2.b) \n",
    "\\end{equation}$$\n",
    "\n",
    "where $m_f$ and $m_0$ are the mass at beginning and end of flight, $u$ is the speed of the propellent, and $\\Delta v=v_{final}-v_{initial}$ is the change in speed of the rocket from beginning to end of flight. Equation 2.b only relates the final velocity to the change in mass and propellent speed. When you integrate Eqn 2.a, you will have to compare the velocity as a function of mass loss. \n",
    "\n",
    "Your first objective is to integrate a numerical model that converges to equation (2.b), the Tsiolkovsky equation. Next, you will add drag and gravity and compare the results _between equations (1) and (2)_. Finally, you will vary the mass change rate to achieve the desired detonation height."
   ]
  },
  {
   "cell_type": "markdown",
   "id": "9d662774",
   "metadata": {},
   "source": [
    "1. Create a `simplerocket` function that returns the velocity, $v$, the acceleration, $a$, and the mass rate change $\\frac{dm}{dt}$, as a function of the $state = [position,~velocity,~mass] = [y,~v,~m]$ using eqn (2.a). Where the mass rate change $\\frac{dm}{dt}$ and the propellent speed $u$ are constants. The average velocity of gun powder propellent used in firework rockets is $u=250$ m/s [3,4]. \n",
    "\n",
    "$\\frac{d~state}{dt} = f(state)$\n",
    "\n",
    "$\\left[\\begin{array}{c} v\\\\a\\\\ \\frac{dm}{dt} \\end{array}\\right] = \\left[\\begin{array}{c} v\\\\ \\frac{u}{m}\\frac{dm}{dt} \\\\ \\frac{dm}{dt} \\end{array}\\right]$\n",
    "\n",
    "Use [two integration methods](../notebooks/03_Get_Oscillations.ipynb) to integrate the `simplerocket` function, one explicit method and one implicit method. Demonstrate that the solutions converge to equation (2.b) the Tsiolkovsky equation. Use an initial state of y=0 m, v=0 m/s, and m=0.25 kg. \n",
    "\n",
    "Integrate the function until mass, $m_{f}=0.05~kg$, using a mass rate change of $\\frac{dm}{dt}=0.05$ kg/s. \n",
    "\n",
    "_Hint: your integrated solution will have a current mass that you can use to create $\\frac{m_{f}}{m_{0}}$ by dividing state[2]/(initial mass), then your plot of velocity(t) vs mass(t)/mass(0) should match Tsiolkovsky's_"
   ]
  },
  {
   "cell_type": "code",
   "execution_count": 1,
   "id": "7335b550",
   "metadata": {},
   "outputs": [],
   "source": [
    "import numpy as np\n",
    "import matplotlib.pyplot as plt\n",
    "%matplotlib inline\n",
    "plt.rcParams.update({'font.size': 22})\n",
    "plt.rcParams['lines.linewidth'] = 3"
   ]
  },
  {
   "cell_type": "code",
   "execution_count": 2,
   "id": "b3b053dc",
   "metadata": {},
   "outputs": [],
   "source": [
    "def simplerocket(state,dmdt=0.05, u=250):\n",
    "    '''Computes the right-hand side of the differential equation\n",
    "    for the acceleration of a rocket, without drag or gravity, in SI units.\n",
    "    \n",
    "    Arguments\n",
    "    ----------    \n",
    "    state : array of three dependent variables [y v m]^T\n",
    "    dmdt : mass rate change of rocket in kilograms/s default set to 0.05 kg/s\n",
    "    u    : speed of propellent expelled (default is 250 m/s)\n",
    "    \n",
    "    Returns\n",
    "    -------\n",
    "    derivs: array of three derivatives [v (u/m*dmdt-g-c/mv^2) -dmdt]^T\n",
    "    '''\n",
    "    \n",
    "    dstate = np.zeros(np.shape(state))\n",
    "    dstate[0]=state[1]\n",
    "    dstate[1]=u*dmdt/(state[2])\n",
    "    dstate[2]=-dmdt\n",
    "    return dstate"
   ]
  },
  {
   "cell_type": "code",
   "execution_count": 3,
   "id": "ceac151f",
   "metadata": {},
   "outputs": [
    {
     "data": {
      "text/plain": [
       "401.559160028918"
      ]
     },
     "execution_count": 3,
     "metadata": {},
     "output_type": "execute_result"
    }
   ],
   "source": [
    "m0=0.25\n",
    "mf=0.05\n",
    "dm=0.05\n",
    "t = np.linspace(0,(m0-mf)/dm,500)\n",
    "dt=t[1]-t[0]\n",
    "sol = np.zeros((len(t),3))\n",
    "sol[0,2]=m0\n",
    "for i in range(0,len(t)-1):\n",
    "    sol[i+1] = sol[i]+simplerocket(sol[i],dmdt=dm)*dt\n",
    "\n",
    "sol[-1,1]"
   ]
  },
  {
   "cell_type": "code",
   "execution_count": 4,
   "id": "51325a22",
   "metadata": {},
   "outputs": [
    {
     "data": {
      "image/png": "[encoded data removed]",
      "text/plain": [
       "<Figure size 432x288 with 1 Axes>"
      ]
     },
     "metadata": {
      "filenames": {
       "image/png": "/home/ryan/Documents/UConn/ME3255/computational-mechanics/_build/jupyter_execute/projects/CompMech03-IVPs_project_6_0.png"
      },
      "needs_background": "light"
     },
     "output_type": "display_data"
    }
   ],
   "source": [
    "u=250# m/s9.81*80\n",
    "dmdt = 0.1\n",
    "dv = np.linspace(0,400,500)\n",
    "mo = 1\n",
    "mf = np.exp(-dv/u) # Tsiolkovsky\n",
    "\n",
    "plt.plot(sol[:,2]/m0,sol[:,1],'s',label='simple rocket')\n",
    "plt.plot(mf,dv, label='Tsiolkovsky')\n",
    "plt.legend();\n",
    "#plt.plot(0.05/0.25,398,'s')"
   ]
  },
  {
   "cell_type": "markdown",
   "id": "43ffc44c",
   "metadata": {},
   "source": [
    "2. You should have a converged solution for integrating `simplerocket`. Now, create a more relastic function, `rocket` that incorporates gravity and drag and returns the velocity, $v$, the acceleration, $a$, and the mass rate change $\\frac{dm}{dt}$, as a function of the $state = [position,~velocity,~mass] = [y,~v,~m]$ using eqn (1). Where the mass rate change $\\frac{dm}{dt}$ and the propellent speed $u$ are constants. The average velocity of gun powder propellent used in firework rockets is $u=250$ m/s [3,4]. \n",
    "\n",
    "$\\frac{d~state}{dt} = f(state)$\n",
    "\n",
    "$\\left[\\begin{array}{c} v\\\\a\\\\ \\frac{dm}{dt} \\end{array}\\right] = \n",
    "\\left[\\begin{array}{c} v\\\\ \\frac{u}{m}\\frac{dm}{dt}-g-\\frac{c}{m}v^2 \\\\ \\frac{dm}{dt} \\end{array}\\right]$\n",
    "\n",
    "Use [two integration methods](../notebooks/03_Get_Oscillations.ipynb) to integrate the `rocket` function, one explicit method and one implicit method. Demonstrate that the solutions converge to equation (2.b) the Tsiolkovsky equation. Use an initial state of y=0 m, v=0 m/s, and m=0.25 kg. \n",
    "\n",
    "Integrate the function until mass, $m_{f}=0.05~kg$, using a mass rate change of $\\frac{dm}{dt}=0.05$ kg/s, . \n",
    "\n",
    "Compare solutions between the `simplerocket` and `rocket` integration, what is the height reached when the mass reaches $m_{f} = 0.05~kg?$"
   ]
  },
  {
   "cell_type": "code",
   "execution_count": 5,
   "id": "d5551187",
   "metadata": {},
   "outputs": [],
   "source": [
    "def rocket(state,dmdt=0.05, u=250,c=0.18e-3):\n",
    "    '''Computes the right-hand side of the differential equation\n",
    "    for the acceleration of a rocket, with drag, in SI units.\n",
    "    \n",
    "    Arguments\n",
    "    ----------    \n",
    "    state : array of three dependent variables [y v m]^T\n",
    "    dmdt : mass rate change of rocket in kilograms/s default set to 0.05 kg/s\n",
    "    u    : speed of propellent expelled (default is 250 m/s)\n",
    "    c : drag constant for a rocket set to 0.18e-3 kg/m\n",
    "    Returns\n",
    "    -------\n",
    "    derivs: array of three derivatives [v (u/m*dmdt-g-c/mv^2) -dmdt]^T\n",
    "    '''\n",
    "    g=9.81\n",
    "    dstate = np.zeros(np.shape(state))\n",
    "    dstate = np.array([state[1], (u/state[2]*dmdt-g-c/state[2]*state[1]**2), -dmdt])\n",
    "    return dstate"
   ]
  },
  {
   "cell_type": "code",
   "execution_count": 6,
   "id": "c826e350",
   "metadata": {},
   "outputs": [
    {
     "data": {
      "text/plain": [
       "<matplotlib.legend.Legend at 0x7f9257752cd0>"
      ]
     },
     "execution_count": 6,
     "metadata": {},
     "output_type": "execute_result"
    },
    {
     "data": {
      "image/png": "[encoded data removed]",
      "text/plain": [
       "<Figure size 432x288 with 1 Axes>"
      ]
     },
     "metadata": {
      "filenames": {
       "image/png": "/home/ryan/Documents/UConn/ME3255/computational-mechanics/_build/jupyter_execute/projects/CompMech03-IVPs_project_9_1.png"
      },
      "needs_background": "light"
     },
     "output_type": "display_data"
    }
   ],
   "source": [
    "m0=0.25\n",
    "mf=0.05\n",
    "dm=0.05\n",
    "t = np.linspace(0,(m0-mf)/dm,500)\n",
    "dt=t[1]-t[0]\n",
    "sim= np.zeros((len(t),3))\n",
    "sol = np.zeros((len(t),3))\n",
    "sol[0,2]=m0\n",
    "sim[0,2]=m0\n",
    "for i in range(0,len(t)-1):\n",
    "    sol[i+1] = sol[i]+rocket(sol[i],dmdt=dm)*dt\n",
    "    sim[i+1] = sim[i]+simplerocket(sim[i],dmdt=dm)*dt\n",
    "\n",
    "sol[-1,0]\n",
    "plt.plot(t,sol[:,0])\n",
    "plt.plot(t,sim[:,0])\n",
    "plt.plot(t[-1],sol[-1,0],'*',markersize=30,label='dm={:.2f}'.format(dm))\n",
    "plt.plot(t[-1],sim[-1,0],'*',markersize=30,label='simple dm={:.2f}'.format(dm))\n",
    "plt.legend(loc='center left', bbox_to_anchor=(1, 0.5))"
   ]
  },
  {
   "cell_type": "markdown",
   "id": "e1f61103",
   "metadata": {},
   "source": [
    "3. Solve for the mass change rate that results in detonation at a height of 300 meters. Create a function `f_dm` that returns the final height of the firework when it reaches $m_{f}=0.05~kg$. The inputs should be \n",
    "\n",
    "$f_{m}= f_{m}(\\frac{dm}{dt},~parameters)$\n",
    "\n",
    "where $\\frac{dm}{dt}$ is the variable we are using to find a root and $parameters$ are the known values, `m0=0.25, c=0.18e-3, u=250`. When $f_{m}(\\frac{dm}{dt}) = 0$, we have found the correct root. \n",
    "\n",
    "Plot the height as a function of time and use a star to denote detonation at the correct height with a `'*'`-marker\n",
    "\n",
    "Approach the solution in two steps, use the incremental search [`incsearch`](../notebooks/04_Getting_to_the_root.ipynb) with 5-10 sub-intervals _we want to limit the number of times we call the function_. Then, use the modified secant method to find the true root of the function.\n",
    "\n",
    "a. Use the incremental search to find the two closest mass change rates within the interval $\\frac{dm}{dt}=0.05-0.4~kg/s.$\n",
    "\n",
    "b. Use the modified secant method to find the root of the function $f_{m}$.\n",
    "\n",
    "c. Plot your solution for the height as a function of time and indicate the detonation with a `*`-marker."
   ]
  },
  {
   "cell_type": "code",
   "execution_count": 7,
   "id": "8d430fd3",
   "metadata": {},
   "outputs": [],
   "source": [
    "def f_m(dmdt,m0=0.25, c=0.18e-3, u=250):\n",
    "    ''' define a function f_m(dmdt) that returns \n",
    "    height_desired-height_predicted[-1]\n",
    "    here, the time span is based upon the value of dmdt\n",
    "    \n",
    "    arguments:\n",
    "    ---------\n",
    "    dmdt: the unknown mass change rate\n",
    "    m0: the known initial mass\n",
    "    c: the known drag in kg/m\n",
    "    u: the known speed of the propellent\n",
    "    \n",
    "    returns:\n",
    "    --------\n",
    "    error: the difference between height_desired and height_predicted[-1]\n",
    "        when f_m(dmdt)= 0, the correct mass change rate was chosen\n",
    "    '''\n",
    "    mf=0.05\n",
    "    t = np.linspace(0,(m0-mf)/dmdt,500)\n",
    "    dt=t[1]-t[0]\n",
    "    sol = np.zeros((len(t),3))\n",
    "    sol[0,2]=m0\n",
    "    for i in range(0,len(t)-1):\n",
    "        sol[i+1] = sol[i]+rocket(sol[i],dmdt=dmdt,c=c,u=u)*dt\n",
    "    error=300-sol[-1,0]\n",
    "    return error"
   ]
  },
  {
   "cell_type": "code",
   "execution_count": 8,
   "id": "7887b62b",
   "metadata": {},
   "outputs": [
    {
     "data": {
      "text/plain": [
       "53.02675941081122"
      ]
     },
     "execution_count": 8,
     "metadata": {},
     "output_type": "execute_result"
    }
   ],
   "source": [
    "f_m(0.1)"
   ]
  },
  {
   "cell_type": "code",
   "execution_count": 9,
   "id": "a31a47be",
   "metadata": {},
   "outputs": [],
   "source": [
    "def mod_secant(func,dx,x0,es=0.0001,maxit=50):\n",
    "    '''mod_secant: Modified secant root location zeroes\n",
    "    root,[fx,ea,iter]=mod_secant(func,dfunc,xr,es,maxit,p1,p2,...):\n",
    "    uses modified secant method to find the root of func\n",
    "    arguments:\n",
    "    ----------\n",
    "    func = name of function\n",
    "    dx = perturbation fraction\n",
    "    xr = initial guess\n",
    "    es = desired relative error (default = 0.0001 )\n",
    "    maxit = maximum allowable iterations (default = 50)\n",
    "    p1,p2,... = additional parameters used by function\n",
    "    returns:\n",
    "    --------\n",
    "    root = real root\n",
    "    fx = func evaluated at root\n",
    "    ea = approximate relative error ( )\n",
    "    iter = number of iterations'''\n",
    "\n",
    "    iter = 0;\n",
    "    xr=x0\n",
    "    for iter in range(0,maxit):\n",
    "        xrold = xr;\n",
    "        dfunc=(func(xr+dx)-func(xr))/dx;\n",
    "        xr = xr - func(xr)/dfunc;\n",
    "        if xr != 0:\n",
    "            ea = abs((xr - xrold)/xr) * 100;\n",
    "        else:\n",
    "            ea = abs((xr - xrold)/1) * 100;\n",
    "        if ea <= es:\n",
    "            break\n",
    "    return xr,[func(xr),ea,iter]"
   ]
  },
  {
   "cell_type": "code",
   "execution_count": 10,
   "id": "b3553fa1",
   "metadata": {},
   "outputs": [
    {
     "data": {
      "text/plain": [
       "(0.0788451731625809, [6.274610984746687e-05, 7.738688150692959e-05, 19])"
      ]
     },
     "execution_count": 10,
     "metadata": {},
     "output_type": "execute_result"
    }
   ],
   "source": [
    "mod_secant(f_m,0.05,0.01)"
   ]
  },
  {
   "cell_type": "code",
   "execution_count": 11,
   "id": "495cb99d",
   "metadata": {},
   "outputs": [
    {
     "data": {
      "text/plain": [
       "6.225073320820229e-05"
      ]
     },
     "execution_count": 11,
     "metadata": {},
     "output_type": "execute_result"
    }
   ],
   "source": [
    "f_m(0.078845173)"
   ]
  },
  {
   "cell_type": "code",
   "execution_count": 12,
   "id": "45fa8a04",
   "metadata": {},
   "outputs": [
    {
     "data": {
      "text/plain": [
       "<matplotlib.legend.Legend at 0x7f92576c3340>"
      ]
     },
     "execution_count": 12,
     "metadata": {},
     "output_type": "execute_result"
    },
    {
     "data": {
      "image/png": "[encoded data removed]",
      "text/plain": [
       "<Figure size 432x288 with 1 Axes>"
      ]
     },
     "metadata": {
      "filenames": {
       "image/png": "/home/ryan/Documents/UConn/ME3255/computational-mechanics/_build/jupyter_execute/projects/CompMech03-IVPs_project_16_1.png"
      },
      "needs_background": "light"
     },
     "output_type": "display_data"
    }
   ],
   "source": [
    "m0=0.25\n",
    "mf=0.05\n",
    "dm=0.078845173\n",
    "t = np.linspace(0,(m0-mf)/dm,500)\n",
    "dt=t[1]-t[0]\n",
    "sol = np.zeros((len(t),3))\n",
    "sol[0,2]=m0\n",
    "for i in range(0,len(t)-1):\n",
    "    sol[i+1] = sol[i]+rocket(sol[i],dmdt=dm)*dt\n",
    "sol[-1,0]\n",
    "plt.plot(t,sol[:,0])\n",
    "plt.plot(t[-1],sol[-1,0],'*',markersize=30,label='dm={:.2f}'.format(dm))\n",
    "plt.legend(loc='center left', bbox_to_anchor=(1, 0.5))"
   ]
  },
  {
   "cell_type": "markdown",
   "id": "087c8466",
   "metadata": {},
   "source": [
    "## References\n",
    "\n",
    "1. Math 24 _Rocket Motion_. <https://www.math24.net/rocket-motion/\\>\n",
    "\n",
    "2. Kasdin and Paley. _Engineering Dynamics_. [ch 6-Linear Momentum of a Multiparticle System pp234-235](https://www.jstor.org/stable/j.ctvcm4ggj.9) Princeton University Press \n",
    "\n",
    "3. <https://en.wikipedia.org/wiki/Specific_impulse>\n",
    "\n",
    "4. <https://www.apogeerockets.com/Rocket_Motors/Estes_Motors/13mm_Motors/Estes_13mm_1_4A3-3T>"
   ]
  }
 ],
 "metadata": {
  "jupytext": {
   "formats": "notebooks//ipynb,md:myst",
   "text_representation": {
    "extension": ".md",
    "format_name": "myst",
    "format_version": 0.13,
    "jupytext_version": "1.10.3"
   }
  },
  "kernelspec": {
   "display_name": "Python 3",
   "language": "python",
   "name": "python3"
  },
  "language_info": {
   "codemirror_mode": {
    "name": "ipython",
    "version": 3
   },
   "file_extension": ".py",
   "mimetype": "text/x-python",
   "name": "python",
   "nbconvert_exporter": "python",
   "pygments_lexer": "ipython3",
   "version": "3.9.4"
  },
  "source_map": [
   13,
   19,
   43,
   57,
   65,
   88,
   102,
   114,
   129,
   150,
   170,
   188,
   217,
   221,
   256,
   260,
   264,
   278
  ]
 },
 "nbformat": 4,
 "nbformat_minor": 5
}