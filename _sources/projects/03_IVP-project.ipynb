{
 "cells": [
  {
   "cell_type": "markdown",
   "id": "11de1c58",
   "metadata": {},
   "source": [
    "# Initial Value Problems - Project\n",
    "\n",
    "![Initial condition of firework with FBD and sum of momentum](../images/firework.png)"
   ]
  },
  {
   "cell_type": "markdown",
   "id": "8f5d34b2",
   "metadata": {},
   "source": [
    "You are going to end this module with a __bang__ by looking at the\n",
    "flight path of a firework. Shown above is the initial condition of a\n",
    "firework, the _Freedom Flyer_ in (a), its final height where it\n",
    "detonates in (b), the applied forces in the __Free Body Diagram (FBD)__\n",
    "in (c), and the __momentum__ of the firework $m\\mathbf{v}$ and the\n",
    "propellent $dm \\mathbf{u}$ in (d). \n",
    "\n",
    "The resulting equation of motion is that the acceleration is\n",
    "proportional to the speed of the propellent and the mass rate change\n",
    "$\\frac{dm}{dt}$ as such\n",
    "\n",
    "$$\\begin{equation}\n",
    "m\\frac{dv}{dt} = u\\frac{dm}{dt} -mg - cv^2.~~~~~~~~(1)\n",
    "\\end{equation}$$\n",
    "\n",
    "If you assume that the acceleration and the propellent momentum are much\n",
    "greater than the forces of gravity and drag, then the equation is\n",
    "simplified to the conservation of momentum. A further simplification is\n",
    "that the speed of the propellant is constant, $u=constant$, then the\n",
    "equation can be integrated to obtain an analytical rocket equation\n",
    "solution of [Tsiolkovsky](https://www.math24.net/rocket-motion/) [1,2], \n",
    "\n",
    "$$\\begin{equation}\n",
    "m\\frac{dv}{dt} = u\\frac{dm}{dt}~~~~~(2.a)\n",
    "\\end{equation}$$\n",
    "\n",
    "$$\\begin{equation}\n",
    "\\frac{m_{f}}{m_{0}}=e^{-\\Delta v / u},~~~~~(2.b) \n",
    "\\end{equation}$$\n",
    "\n",
    "where $m_f$ and $m_0$ are the mass at beginning and end of flight, $u$\n",
    "is the speed of the propellent, and $\\Delta v=v_{final}-v_{initial}$ is\n",
    "the change in speed of the rocket from beginning to end of flight.\n",
    "Equation 2.b only relates the final velocity to the change in mass and\n",
    "propellent speed. When you integrate Eqn 2.a, you will have to compare\n",
    "the velocity as a function of mass loss. \n",
    "\n",
    "Your first objective is to integrate a numerical model that converges to\n",
    "equation (2.b), the Tsiolkovsky equation. Next, you will add drag and\n",
    "gravity and compare the results _between equations (1) and (2)_.\n",
    "Finally, you will vary the mass change rate to achieve the desired\n",
    "detonation height."
   ]
  },
  {
   "cell_type": "markdown",
   "id": "90b65b26",
   "metadata": {},
   "source": [
    "__1.__ Create a `simplerocket` function that returns the velocity, $v$,\n",
    "the acceleration, $a$, and the mass rate change $\\frac{dm}{dt}$, as a\n",
    "function of the $state = [position,~velocity,~mass] = [y,~v,~m]$ using\n",
    "eqn (2.a). Where the mass rate change $\\frac{dm}{dt}$ and the propellent\n",
    "speed $u$ are constants. The average velocity of gun powder propellent\n",
    "used in firework rockets is $u=250$ m/s [3,4]. \n",
    "\n",
    "$\\frac{d~state}{dt} = f(state)$\n",
    "\n",
    "$\\left[\\begin{array}{c} v\\\\a\\\\ \\frac{dm}{dt} \\end{array}\\right] = \\left[\\begin{array}{c} v\\\\ \\frac{u}{m}\\frac{dm}{dt} \\\\ \\frac{dm}{dt} \\end{array}\\right]$\n",
    "\n",
    "Use [an integration method](../module_03/03_Get_Oscillations) to\n",
    "integrate the `simplerocket` function. Demonstrate that your solution\n",
    "converges to equation (2.b) the Tsiolkovsky equation. Use an initial\n",
    "state of y=0 m, v=0 m/s, and m=0.25 kg. \n",
    "\n",
    "Integrate the function until mass, $m_{f}=0.05~kg$, using a mass rate change of $\\frac{dm}{dt}=0.05$ kg/s. \n",
    "\n",
    "> __Hint__: your integrated solution will have a current mass that you can\n",
    "> use to create $\\frac{m_{f}}{m_{0}}$ by dividing state[2]/(initial mass),\n",
    "> then your plot of velocity(t) vs mass(t)/mass(0) should match\n",
    "> Tsiolkovsky's\n",
    "> \n",
    "> $\\log\\left(\\frac{m_{f}}{m_{0}}\\right) =\n",
    "> \\log\\left(\\frac{state[2]}{0.25~kg}\\right) \n",
    "> = \\frac{state[1]}{250~m/s} = \\frac{-\\Delta v+error}{u}$ \n",
    "> where $error$ is the difference between your integrated state variable\n",
    "> and the Tsiolkovsky analytical value."
   ]
  },
  {
   "cell_type": "code",
   "execution_count": 1,
   "id": "3f138e91",
   "metadata": {},
   "outputs": [],
   "source": [
    "import numpy as np\n",
    "import matplotlib.pyplot as plt\n",
    "plt.style.use('fivethirtyeight')"
   ]
  },
  {
   "cell_type": "code",
   "execution_count": 2,
   "id": "119f3a9e",
   "metadata": {},
   "outputs": [],
   "source": [
    "def simplerocket(state, dmdt=0.05, u=250):\n",
    "    '''Computes the right-hand side of the differential equation\n",
    "    for the acceleration of a rocket, without drag or gravity, in SI units.\n",
    "    \n",
    "    Arguments\n",
    "    ----------    \n",
    "    state : array of three dependent variables [y v m]^T\n",
    "    dmdt : mass rate change of rocket in kilograms/s default set to 0.05 kg/s\n",
    "    u    : speed of propellent expelled (default is 250 m/s)\n",
    "    \n",
    "    Returns\n",
    "    -------\n",
    "    derivs: array of three derivatives [v (u/m*dmdt-g-c/mv^2) -dmdt]^T\n",
    "    '''\n",
    "    \n",
    "    dstate = np.zeros(np.shape(state))\n",
    "    dstate[0] = state[1]\n",
    "    dstate[1] = (u*dmdt/state[2])\n",
    "    dstate[2] = -dmdt\n",
    "    return dstate"
   ]
  },
  {
   "cell_type": "code",
   "execution_count": 3,
   "id": "07923574",
   "metadata": {},
   "outputs": [],
   "source": [
    "def simplerocket(t, state,dmdt=0.05, u=250):\n",
    "\n",
    "    m0 = .25\n",
    "    \n",
    "    derivs = np.array([state[1], (u*dmdt)/state[2], -dmdt])\n",
    "#     print(state[2], u*dmdt/state[2])\n",
    "    return derivs"
   ]
  },
  {
   "cell_type": "code",
   "execution_count": 4,
   "id": "29833a42",
   "metadata": {},
   "outputs": [],
   "source": [
    "from scipy.integrate import solve_ivp"
   ]
  },
  {
   "cell_type": "code",
   "execution_count": 5,
   "id": "3eb51dde",
   "metadata": {},
   "outputs": [
    {
     "ename": "NameError",
     "evalue": "name 'upload_imgur' is not defined",
     "output_type": "error",
     "traceback": [
      "\u001b[0;31m---------------------------------------------------------------------------\u001b[0m",
      "\u001b[0;31mNameError\u001b[0m                                 Traceback (most recent call last)",
      "\u001b[0;32m/tmp/ipykernel_2240/69557506.py\u001b[0m in \u001b[0;36m<module>\u001b[0;34m\u001b[0m\n\u001b[1;32m     10\u001b[0m     \u001b[0mplt\u001b[0m\u001b[0;34m.\u001b[0m\u001b[0mplot\u001b[0m\u001b[0;34m(\u001b[0m\u001b[0msol\u001b[0m\u001b[0;34m.\u001b[0m\u001b[0mt\u001b[0m\u001b[0;34m,\u001b[0m \u001b[0msol\u001b[0m\u001b[0;34m.\u001b[0m\u001b[0my\u001b[0m\u001b[0;34m[\u001b[0m\u001b[0;36m0\u001b[0m\u001b[0;34m]\u001b[0m\u001b[0;34m,\u001b[0m \u001b[0mlabel\u001b[0m \u001b[0;34m=\u001b[0m \u001b[0;34m'dm = {}'\u001b[0m\u001b[0;34m.\u001b[0m\u001b[0mformat\u001b[0m\u001b[0;34m(\u001b[0m\u001b[0mdm\u001b[0m\u001b[0;34m)\u001b[0m\u001b[0;34m)\u001b[0m\u001b[0;34m\u001b[0m\u001b[0;34m\u001b[0m\u001b[0m\n\u001b[1;32m     11\u001b[0m \u001b[0mplt\u001b[0m\u001b[0;34m.\u001b[0m\u001b[0mlegend\u001b[0m\u001b[0;34m(\u001b[0m\u001b[0;34m)\u001b[0m\u001b[0;34m\u001b[0m\u001b[0;34m\u001b[0m\u001b[0m\n\u001b[0;32m---> 12\u001b[0;31m \u001b[0mupload_imgur\u001b[0m\u001b[0;34m.\u001b[0m\u001b[0mupload_figure\u001b[0m\u001b[0;34m(\u001b[0m\u001b[0;34m)\u001b[0m\u001b[0;34m\u001b[0m\u001b[0;34m\u001b[0m\u001b[0m\n\u001b[0m",
      "\u001b[0;31mNameError\u001b[0m: name 'upload_imgur' is not defined"
     ]
    },
    {
     "data": {
      "image/png": "[encoded data removed]",
      "text/plain": [
       "<Figure size 432x288 with 1 Axes>"
      ]
     },
     "metadata": {
      "filenames": {
       "image/png": "/home/runner/work/computational-mechanics/computational-mechanics/_build/jupyter_execute/projects/03_IVP-project_7_1.png"
      }
     },
     "output_type": "display_data"
    }
   ],
   "source": [
    "m0=0.25\n",
    "mf=0.05\n",
    "dm=0.05\n",
    "for dm in [0.05, 0.1, 0.15]:\n",
    "    t = np.linspace(0,(m0-mf)/dm,500)\n",
    "    dt=t[1]-t[0]\n",
    "\n",
    "    sol = solve_ivp(lambda t, state:simplerocket(t, state, dmdt = dm), [0, t.max()], [0, 0, m0], t_eval=t)\n",
    "\n",
    "    plt.plot(sol.t, sol.y[0], label = 'dm = {}'.format(dm))\n",
    "plt.legend()\n",
    "upload_imgur.upload_figure()"
   ]
  },
  {
   "cell_type": "code",
   "execution_count": null,
   "id": "5edf1a87",
   "metadata": {},
   "outputs": [],
   "source": [
    "import sys\n",
    "sys.path.append('/home/ryan/bin')"
   ]
  },
  {
   "cell_type": "code",
   "execution_count": null,
   "id": "c6294d4e",
   "metadata": {},
   "outputs": [],
   "source": [
    "import upload_imgur"
   ]
  },
  {
   "cell_type": "code",
   "execution_count": null,
   "id": "798f5872",
   "metadata": {},
   "outputs": [],
   "source": []
  },
  {
   "cell_type": "code",
   "execution_count": null,
   "id": "ebe2043c",
   "metadata": {},
   "outputs": [],
   "source": [
    "def rk2_step(state, rhs, dt):\n",
    "    '''Update a state to the next time increment using modified Euler's method.\n",
    "    \n",
    "    Arguments\n",
    "    ---------\n",
    "    state : array of dependent variables\n",
    "    rhs   : function that computes the RHS of the DiffEq\n",
    "    dt    : float, time increment\n",
    "    \n",
    "    Returns\n",
    "    -------\n",
    "    next_state : array, updated after one time increment'''\n",
    "    \n",
    "    mid_state = state + rhs(state) * dt*0.5    \n",
    "    next_state = state + rhs(mid_state)*dt\n",
    " \n",
    "    return next_state"
   ]
  },
  {
   "cell_type": "code",
   "execution_count": null,
   "id": "95bdbb35",
   "metadata": {},
   "outputs": [],
   "source": [
    "def f_m(dm):\n",
    "    t = np.linspace(0,(m0-mf)/dm,500)\n",
    "    dt=t[1]-t[0]\n",
    "\n",
    "#     sol = solve_ivp(simplerocket, [0, t.max()], [0, 0, m0])\n",
    "    state = np.zeros((len(t), 3))\n",
    "    state[0, 2] = m0\n",
    "    for i in range(1, len(t)):\n",
    "        state[i] = rk2_step(state[i-1], lambda state: simplerocket(t[0], state, dmdt = dm), dt)\n",
    "    \n",
    "    return state[-1, 0] - 300"
   ]
  },
  {
   "cell_type": "code",
   "execution_count": null,
   "id": "d87933b5",
   "metadata": {},
   "outputs": [],
   "source": [
    "dm = np.linspace(0.01, 1, 50)\n",
    "\n",
    "f_m_values = np.array([f_m(dm_i) for dm_i in dm])\n",
    "\n",
    "plt.plot(dm, f_m_values)"
   ]
  },
  {
   "cell_type": "code",
   "execution_count": null,
   "id": "c7abfcb6",
   "metadata": {},
   "outputs": [],
   "source": [
    "rk2_step(state[0], lambda state: simplerocket(0, state, dmdt = 0.05), 0.01)"
   ]
  },
  {
   "cell_type": "code",
   "execution_count": null,
   "id": "bd7f09e3",
   "metadata": {},
   "outputs": [],
   "source": [
    "f_m(0.05)"
   ]
  },
  {
   "cell_type": "code",
   "execution_count": null,
   "id": "9614baac",
   "metadata": {},
   "outputs": [],
   "source": [
    "euler_cromer(state[0], lambda state: simplerocket(t, state, dmdt = 0.05), 0.1)"
   ]
  },
  {
   "cell_type": "code",
   "execution_count": null,
   "id": "2ceed2d8",
   "metadata": {},
   "outputs": [],
   "source": [
    "def incsearch(func,xmin,xmax,ns=50):\n",
    "    '''incsearch: incremental search root locator\n",
    "    xb = incsearch(func,xmin,xmax,ns):\n",
    "      finds brackets of x that contain sign changes\n",
    "      of a function on an interval\n",
    "    arguments:\n",
    "    ---------\n",
    "    func = name of function\n",
    "    xmin, xmax = endpoints of interval\n",
    "    ns = number of subintervals (default = 50)\n",
    "    returns:\n",
    "    ---------\n",
    "    xb(k,1) is the lower bound of the kth sign change\n",
    "    xb(k,2) is the upper bound of the kth sign change\n",
    "    If no brackets found, xb = [].'''\n",
    "    x = np.linspace(xmin,xmax,ns)\n",
    "    f = np.zeros(len(x))\n",
    "    for i in range(len(x)):\n",
    "        f[i] = func(x[i])\n",
    "    sign_f = np.sign(f)\n",
    "    delta_sign_f = sign_f[1:]-sign_f[0:-1]\n",
    "    i_zeros = np.nonzero(delta_sign_f!=0)\n",
    "    nb = len(i_zeros[0])\n",
    "    xb = np.block([[ x[i_zeros[0]+1]],[x[i_zeros[0]] ]] )\n",
    "\n",
    "    \n",
    "    if nb==0:\n",
    "      print('no brackets found\\n')\n",
    "      print('check interval or increase ns\\n')\n",
    "    else:\n",
    "      print('number of brackets:  {}\\n'.format(nb))\n",
    "    return xb"
   ]
  },
  {
   "cell_type": "code",
   "execution_count": null,
   "id": "ec980e2e",
   "metadata": {},
   "outputs": [],
   "source": [
    "incsearch(f_m, 0.05, 0.5, ns = 300)"
   ]
  },
  {
   "cell_type": "code",
   "execution_count": null,
   "id": "09fa0172",
   "metadata": {},
   "outputs": [],
   "source": [
    "m0=0.25\n",
    "mf=0.05\n",
    "dm=0.05\n",
    "for dm in [0.0997, 0.0995]:\n",
    "    t = np.linspace(0,(m0-mf)/dm,500)\n",
    "    dt=t[1]-t[0]\n",
    "\n",
    "    sol = solve_ivp(simplerocket, [0, t.max()], [0, 0, m0], t_eval=t)\n",
    "\n",
    "    plt.plot(sol.t, sol.y[0], '.', alpha = 0.5, label = 'dm = {}'.format(dm))\n",
    "    plt.plot(sol.t[-1], sol.y[0, -1], '*', markersize = 20)\n",
    "plt.legend()"
   ]
  },
  {
   "cell_type": "markdown",
   "id": "bce0c5dc",
   "metadata": {},
   "source": [
    "__2.__ You should have a converged solution for integrating `simplerocket`. Now, create a more relastic function, `rocket` that incorporates gravity and drag and returns the velocity, $v$, the acceleration, $a$, and the mass rate change $\\frac{dm}{dt}$, as a function of the $state = [position,~velocity,~mass] = [y,~v,~m]$ using eqn (1). Where the mass rate change $\\frac{dm}{dt}$ and the propellent speed $u$ are constants. The average velocity of gun powder propellent used in firework rockets is $u=250$ m/s [3,4]. \n",
    "\n",
    "$\\frac{d~state}{dt} = f(state)$\n",
    "\n",
    "$\\left[\\begin{array}{c} v\\\\a\\\\ \\frac{dm}{dt} \\end{array}\\right] = \n",
    "\\left[\\begin{array}{c} v\\\\ \\frac{u}{m}\\frac{dm}{dt}-g-\\frac{c}{m}v^2 \\\\ \\frac{dm}{dt} \\end{array}\\right]$\n",
    "\n",
    "Use [two integration methods](../notebooks/03_Get_Oscillations.ipynb) to integrate the `rocket` function, one explicit method and one implicit method. Demonstrate that the solutions converge to equation (2.b) the Tsiolkovsky equation. Use an initial state of y=0 m, v=0 m/s, and m=0.25 kg. \n",
    "\n",
    "Integrate the function until mass, $m_{f}=0.05~kg$, using a mass rate change of $\\frac{dm}{dt}=0.05$ kg/s, . \n",
    "\n",
    "Compare solutions between the `simplerocket` and `rocket` integration, what is the height reached when the mass reaches $m_{f} = 0.05~kg?$"
   ]
  },
  {
   "cell_type": "code",
   "execution_count": null,
   "id": "1fdf920d",
   "metadata": {},
   "outputs": [],
   "source": [
    "def rocket(state,dmdt=0.05, u=250,c=0.18e-3):\n",
    "    '''Computes the right-hand side of the differential equation\n",
    "    for the acceleration of a rocket, with drag, in SI units.\n",
    "    \n",
    "    Arguments\n",
    "    ----------    \n",
    "    state : array of three dependent variables [y v m]^T\n",
    "    dmdt : mass rate change of rocket in kilograms/s default set to 0.05 kg/s\n",
    "    u    : speed of propellent expelled (default is 250 m/s)\n",
    "    c : drag constant for a rocket set to 0.18e-3 kg/m\n",
    "    Returns\n",
    "    -------\n",
    "    derivs: array of three derivatives [v (u/m*dmdt-g-c/mv^2) -dmdt]^T\n",
    "    '''\n",
    "    g=9.81\n",
    "    dstate = np.zeros(np.shape(state))\n",
    "    # your work\n",
    "    return dstate"
   ]
  },
  {
   "cell_type": "markdown",
   "id": "fea32001",
   "metadata": {},
   "source": [
    "__3.__ Solve for the mass change rate that results in detonation at a height of 300 meters. Create a function `f_dm` that returns the final height of the firework when it reaches $m_{f}=0.05~kg$. The inputs should be \n",
    "\n",
    "$f_{m}= f_{m}(\\frac{dm}{dt},~parameters)$\n",
    "\n",
    "where $\\frac{dm}{dt}$ is the variable you are using to find a root and $parameters$ are the known values, `m0=0.25, c=0.18e-3, u=250`. When $f_{m}(\\frac{dm}{dt}) = 0$, you have found the correct root. \n",
    "\n",
    "Plot the height as a function of time and use a star to denote detonation at the correct height with a `'*'`-marker\n",
    "\n",
    "Approach the solution in two steps, use the incremental search\n",
    "[`incsearch`](../module_03/04_Getting_to_the_root) with 5-10\n",
    "sub-intervals _limit the number of times you call the\n",
    "function_. Then, use the modified secant method to find the true root of\n",
    "the function.\n",
    "\n",
    "a. Use the incremental search to find the two closest mass change rates within the interval $\\frac{dm}{dt}=0.05-0.4~kg/s.$\n",
    "\n",
    "b. Use the modified secant method to find the root of the function $f_{m}$.\n",
    "\n",
    "c. Plot your solution for the height as a function of time and indicate the detonation with a `*`-marker."
   ]
  },
  {
   "cell_type": "code",
   "execution_count": null,
   "id": "55b439f2",
   "metadata": {},
   "outputs": [],
   "source": [
    "def f_dm(dmdt, m0 = 0.25, c = 0.18e-3, u = 250):\n",
    "    ''' define a function f_dm(dmdt) that returns \n",
    "    height_desired-height_predicted[-1]\n",
    "    here, the time span is based upon the value of dmdt\n",
    "    \n",
    "    arguments:\n",
    "    ---------\n",
    "    dmdt: the unknown mass change rate\n",
    "    m0: the known initial mass\n",
    "    c: the known drag in kg/m\n",
    "    u: the known speed of the propellent\n",
    "    \n",
    "    returns:\n",
    "    --------\n",
    "    error: the difference between height_desired and height_predicted[-1]\n",
    "        when f_dm(dmdt) = 0, the correct mass change rate was chosen\n",
    "    '''\n",
    "    # your work\n",
    "    return error"
   ]
  },
  {
   "cell_type": "code",
   "execution_count": null,
   "id": "68b3e64f",
   "metadata": {},
   "outputs": [],
   "source": [
    "def mod_secant(func,dx,x0,es=0.0001,maxit=50):\n",
    "    '''mod_secant: Modified secant root location zeroes\n",
    "    root,[fx,ea,iter]=mod_secant(func,dfunc,xr,es,maxit,p1,p2,...):\n",
    "    uses modified secant method to find the root of func\n",
    "    arguments:\n",
    "    ----------\n",
    "    func = name of function\n",
    "    dx = perturbation fraction\n",
    "    xr = initial guess\n",
    "    es = desired relative error (default = 0.0001 )\n",
    "    maxit = maximum allowable iterations (default = 50)\n",
    "    p1,p2,... = additional parameters used by function\n",
    "    returns:\n",
    "    --------\n",
    "    root = real root\n",
    "    fx = func evaluated at root\n",
    "    ea = approximate relative error ( )\n",
    "    iter = number of iterations'''\n",
    "\n",
    "    iter = 0;\n",
    "    xr=x0\n",
    "    for iter in range(0,maxit):\n",
    "        xrold = xr;\n",
    "        dfunc=(func(xr+dx)-func(xr))/dx;\n",
    "        xr = xr - func(xr)/dfunc;\n",
    "        if xr != 0:\n",
    "            ea = abs((xr - xrold)/xr) * 100;\n",
    "        else:\n",
    "            ea = abs((xr - xrold)/1) * 100;\n",
    "        if ea <= es:\n",
    "            break\n",
    "    return xr,[func(xr),ea,iter]"
   ]
  },
  {
   "cell_type": "code",
   "execution_count": null,
   "id": "ce486e0e",
   "metadata": {},
   "outputs": [],
   "source": [
    "t = np.linspace(0, 4)\n",
    "y = t**2\n",
    "\n",
    "plt.plot(t, y)\n",
    "plt.plot(t[-1], y[-1], '*', markersize = 20)"
   ]
  },
  {
   "cell_type": "markdown",
   "id": "360a108d",
   "metadata": {},
   "source": [
    "## References\n",
    "\n",
    "1. Math 24 _Rocket Motion_. <https://www.math24.net/rocket-motion/\\>\n",
    "\n",
    "2. Kasdin and Paley. _Engineering Dynamics_. [ch 6-Linear Momentum of a Multiparticle System pp234-235](https://www.jstor.org/stable/j.ctvcm4ggj.9) Princeton University Press \n",
    "\n",
    "3. <https://en.wikipedia.org/wiki/Specific_impulse>\n",
    "\n",
    "4. <https://www.apogeerockets.com/Rocket_Motors/Estes_Motors/13mm_Motors/Estes_13mm_1_4A3-3T>"
   ]
  }
 ],
 "metadata": {
  "jupytext": {
   "formats": "notebooks//ipynb,md:myst",
   "text_representation": {
    "extension": ".md",
    "format_name": "myst",
    "format_version": 0.13,
    "jupytext_version": "1.10.3"
   }
  },
  "kernelspec": {
   "display_name": "Python 3",
   "language": "python",
   "name": "python3"
  },
  "language_info": {
   "codemirror_mode": {
    "name": "ipython",
    "version": 3
   },
   "file_extension": ".py",
   "mimetype": "text/x-python",
   "name": "python",
   "nbconvert_exporter": "python",
   "pygments_lexer": "ipython3",
   "version": "3.9.6"
  },
  "source_map": [
   13,
   19,
   64,
   95,
   101,
   124,
   134,
   138,
   153,
   158,
   162,
   166,
   186,
   200,
   208,
   212,
   216,
   220,
   255,
   259,
   272,
   287,
   306,
   328,
   350,
   385,
   391
  ]
 },
 "nbformat": 4,
 "nbformat_minor": 5
}