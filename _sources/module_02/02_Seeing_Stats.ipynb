{
 "cells": [
  {
   "cell_type": "markdown",
   "id": "719c8e7e",
   "metadata": {},
   "source": [
    "> __Content modified under Creative Commons Attribution license CC-BY\n",
    "> 4.0, code under BSD 3-Clause License © 2020 R.C. Cooper__"
   ]
  },
  {
   "cell_type": "markdown",
   "id": "7bb1501a",
   "metadata": {},
   "source": [
    "# 02 - Seeing stats in a new light\n",
    "\n",
    "Welcome to the second lesson in \"Analyze Data,\" Module 2 of your series\n",
    "in _Computational Mechanics_. In the previous lesson, [Cheers! Stats\n",
    "with Beers](./01_Cheers_Stats_Beers), You did some exploratory\n",
    "data analysis with a data set of canned craft beers in the US [1]. We'll\n",
    "continue using that same data set here, but with a new focus on\n",
    "_visualizing statistics_.\n",
    "\n",
    "In her lecture [\"Looking at Data\"](https://youtu.be/QYDuAo9r1xE), Prof. Kristin Sainani says that you should always plot your data. Immediately, several things can come to light: are there outliers in your data? (Outliers are data points that look abnormally far from other values in the sample.) Are there data points that don't make sense? (Errors in data entry can be spotted this way.) And especially, you want to get a _visual_ representation of how data are distributed in your sample.\n",
    "\n",
    "In this lesson, you'll play around with different ways of visualizing\n",
    "data. You have so many ways to play! Have a look at the gallery of [The\n",
    "Data Viz Project](http://datavizproject.com) by _ferdio_ (a data viz\n",
    "agency in Copenhagen). Aren't those gorgeous? Wouldn't you like to be\n",
    "able to make some pretty pics like that? Python can help!\n",
    "\n",
    "Let's begin. You'll import your favorite Python libraries, and set some\n",
    "font parameters for your plots to look nicer. Then you'll load our data\n",
    "set for craft beers and begin!"
   ]
  },
  {
   "cell_type": "code",
   "execution_count": 1,
   "id": "cb51a943",
   "metadata": {},
   "outputs": [],
   "source": [
    "import numpy as np\n",
    "import pandas as pd\n",
    "import matplotlib.pyplot as plt\n",
    "plt.style.use('fivethirtyeight')"
   ]
  },
  {
   "cell_type": "markdown",
   "id": "cc16f732",
   "metadata": {},
   "source": [
    "## Read the data\n",
    "\n",
    "Like in the previous lesson, you will load the data from a `.csv` file. You may have the file in your working directory if you downloaded it when working through the previous lesson. In that case, you could load it like this:\n",
    "\n",
    "```Python\n",
    "beers = pd.read_csv(\"beers.csv\")\n",
    "```\n",
    "\n",
    "If you downloaded the full set of lesson files from your public repository, you can find the file in the `/data` folder, and you can load it with the full path:"
   ]
  },
  {
   "cell_type": "code",
   "execution_count": 2,
   "id": "7121a867",
   "metadata": {},
   "outputs": [],
   "source": [
    "# Load the beers data set using pandas, and assign it to a dataframe\n",
    "beers = pd.read_csv(\"../data/beers.csv\")"
   ]
  },
  {
   "cell_type": "markdown",
   "id": "fa6bcc15",
   "metadata": {},
   "source": [
    "##### Note:\n",
    "\n",
    "If you don't have the data file locally, download it by adding a code cell, and executing the following code in it:\n",
    "\n",
    "```Python\n",
    "from urllib.request import urlretrieve\n",
    "URL = 'http://go.gwu.edu/engcomp2data1?accessType=DOWNLOAD'\n",
    "urlretrieve(URL, 'beers.csv')\n",
    "```\n",
    "The data file will be downloaded to your working directory, and you will load it like described above."
   ]
  },
  {
   "cell_type": "markdown",
   "id": "b006aa77",
   "metadata": {},
   "source": [
    "OK. Let's have a look at the first few rows of the `pandas` dataframe\n",
    "you just created from the file, and confirm that it's a dataframe using\n",
    "the `type()` function. You only display the first 10 rows to save some\n",
    "space."
   ]
  },
  {
   "cell_type": "code",
   "execution_count": 3,
   "id": "cf353f11",
   "metadata": {},
   "outputs": [
    {
     "data": {
      "text/plain": [
       "pandas.core.frame.DataFrame"
      ]
     },
     "execution_count": 3,
     "metadata": {},
     "output_type": "execute_result"
    }
   ],
   "source": [
    "type(beers)"
   ]
  },
  {
   "cell_type": "code",
   "execution_count": 4,
   "id": "4e3f568a",
   "metadata": {},
   "outputs": [
    {
     "data": {
      "text/html": [
       "<div>\n",
       "<style scoped>\n",
       "    .dataframe tbody tr th:only-of-type {\n",
       "        vertical-align: middle;\n",
       "    }\n",
       "\n",
       "    .dataframe tbody tr th {\n",
       "        vertical-align: top;\n",
       "    }\n",
       "\n",
       "    .dataframe thead th {\n",
       "        text-align: right;\n",
       "    }\n",
       "</style>\n",
       "<table border=\"1\" class=\"dataframe\">\n",
       "  <thead>\n",
       "    <tr style=\"text-align: right;\">\n",
       "      <th></th>\n",
       "      <th>Unnamed: 0</th>\n",
       "      <th>abv</th>\n",
       "      <th>ibu</th>\n",
       "      <th>id</th>\n",
       "      <th>name</th>\n",
       "      <th>style</th>\n",
       "      <th>brewery_id</th>\n",
       "      <th>ounces</th>\n",
       "    </tr>\n",
       "  </thead>\n",
       "  <tbody>\n",
       "    <tr>\n",
       "      <th>2</th>\n",
       "      <td>2</td>\n",
       "      <td>0.071</td>\n",
       "      <td>NaN</td>\n",
       "      <td>2264</td>\n",
       "      <td>Rise of the Phoenix</td>\n",
       "      <td>American IPA</td>\n",
       "      <td>177</td>\n",
       "      <td>12.0</td>\n",
       "    </tr>\n",
       "    <tr>\n",
       "      <th>4</th>\n",
       "      <td>4</td>\n",
       "      <td>0.075</td>\n",
       "      <td>NaN</td>\n",
       "      <td>2262</td>\n",
       "      <td>Sex and Candy</td>\n",
       "      <td>American IPA</td>\n",
       "      <td>177</td>\n",
       "      <td>12.0</td>\n",
       "    </tr>\n",
       "    <tr>\n",
       "      <th>28</th>\n",
       "      <td>28</td>\n",
       "      <td>0.070</td>\n",
       "      <td>70.0</td>\n",
       "      <td>799</td>\n",
       "      <td>21st Amendment IPA (2006)</td>\n",
       "      <td>American IPA</td>\n",
       "      <td>368</td>\n",
       "      <td>12.0</td>\n",
       "    </tr>\n",
       "    <tr>\n",
       "      <th>29</th>\n",
       "      <td>29</td>\n",
       "      <td>0.070</td>\n",
       "      <td>70.0</td>\n",
       "      <td>797</td>\n",
       "      <td>Brew Free! or Die IPA (2008)</td>\n",
       "      <td>American IPA</td>\n",
       "      <td>368</td>\n",
       "      <td>12.0</td>\n",
       "    </tr>\n",
       "    <tr>\n",
       "      <th>30</th>\n",
       "      <td>30</td>\n",
       "      <td>0.070</td>\n",
       "      <td>70.0</td>\n",
       "      <td>796</td>\n",
       "      <td>Brew Free! or Die IPA (2009)</td>\n",
       "      <td>American IPA</td>\n",
       "      <td>368</td>\n",
       "      <td>12.0</td>\n",
       "    </tr>\n",
       "    <tr>\n",
       "      <th>...</th>\n",
       "      <td>...</td>\n",
       "      <td>...</td>\n",
       "      <td>...</td>\n",
       "      <td>...</td>\n",
       "      <td>...</td>\n",
       "      <td>...</td>\n",
       "      <td>...</td>\n",
       "      <td>...</td>\n",
       "    </tr>\n",
       "    <tr>\n",
       "      <th>2387</th>\n",
       "      <td>2390</td>\n",
       "      <td>0.059</td>\n",
       "      <td>135.0</td>\n",
       "      <td>1676</td>\n",
       "      <td>Troopers Alley IPA</td>\n",
       "      <td>American IPA</td>\n",
       "      <td>344</td>\n",
       "      <td>12.0</td>\n",
       "    </tr>\n",
       "    <tr>\n",
       "      <th>2390</th>\n",
       "      <td>2393</td>\n",
       "      <td>0.065</td>\n",
       "      <td>82.0</td>\n",
       "      <td>2417</td>\n",
       "      <td>4000 Footer IPA</td>\n",
       "      <td>American IPA</td>\n",
       "      <td>109</td>\n",
       "      <td>12.0</td>\n",
       "    </tr>\n",
       "    <tr>\n",
       "      <th>2392</th>\n",
       "      <td>2395</td>\n",
       "      <td>0.065</td>\n",
       "      <td>69.0</td>\n",
       "      <td>1697</td>\n",
       "      <td>Be Hoppy IPA</td>\n",
       "      <td>American IPA</td>\n",
       "      <td>339</td>\n",
       "      <td>16.0</td>\n",
       "    </tr>\n",
       "    <tr>\n",
       "      <th>2393</th>\n",
       "      <td>2396</td>\n",
       "      <td>0.069</td>\n",
       "      <td>69.0</td>\n",
       "      <td>2194</td>\n",
       "      <td>Worthy IPA</td>\n",
       "      <td>American IPA</td>\n",
       "      <td>199</td>\n",
       "      <td>12.0</td>\n",
       "    </tr>\n",
       "    <tr>\n",
       "      <th>2396</th>\n",
       "      <td>2399</td>\n",
       "      <td>0.069</td>\n",
       "      <td>69.0</td>\n",
       "      <td>1512</td>\n",
       "      <td>Worthy IPA (2013)</td>\n",
       "      <td>American IPA</td>\n",
       "      <td>199</td>\n",
       "      <td>12.0</td>\n",
       "    </tr>\n",
       "  </tbody>\n",
       "</table>\n",
       "<p>424 rows × 8 columns</p>\n",
       "</div>"
      ],
      "text/plain": [
       "      Unnamed: 0    abv    ibu    id                          name  \\\n",
       "2              2  0.071    NaN  2264           Rise of the Phoenix   \n",
       "4              4  0.075    NaN  2262                 Sex and Candy   \n",
       "28            28  0.070   70.0   799     21st Amendment IPA (2006)   \n",
       "29            29  0.070   70.0   797  Brew Free! or Die IPA (2008)   \n",
       "30            30  0.070   70.0   796  Brew Free! or Die IPA (2009)   \n",
       "...          ...    ...    ...   ...                           ...   \n",
       "2387        2390  0.059  135.0  1676            Troopers Alley IPA   \n",
       "2390        2393  0.065   82.0  2417               4000 Footer IPA   \n",
       "2392        2395  0.065   69.0  1697                  Be Hoppy IPA   \n",
       "2393        2396  0.069   69.0  2194                    Worthy IPA   \n",
       "2396        2399  0.069   69.0  1512             Worthy IPA (2013)   \n",
       "\n",
       "             style  brewery_id  ounces  \n",
       "2     American IPA         177    12.0  \n",
       "4     American IPA         177    12.0  \n",
       "28    American IPA         368    12.0  \n",
       "29    American IPA         368    12.0  \n",
       "30    American IPA         368    12.0  \n",
       "...            ...         ...     ...  \n",
       "2387  American IPA         344    12.0  \n",
       "2390  American IPA         109    12.0  \n",
       "2392  American IPA         339    16.0  \n",
       "2393  American IPA         199    12.0  \n",
       "2396  American IPA         199    12.0  \n",
       "\n",
       "[424 rows x 8 columns]"
      ]
     },
     "execution_count": 4,
     "metadata": {},
     "output_type": "execute_result"
    }
   ],
   "source": [
    "beers[beers['style']=='American IPA']"
   ]
  },
  {
   "cell_type": "code",
   "execution_count": 5,
   "id": "01eb8364",
   "metadata": {},
   "outputs": [
    {
     "data": {
      "text/plain": [
       "Index(['Unnamed: 0', 'abv', 'ibu', 'id', 'name', 'style', 'brewery_id',\n",
       "       'ounces'],\n",
       "      dtype='object')"
      ]
     },
     "execution_count": 5,
     "metadata": {},
     "output_type": "execute_result"
    }
   ],
   "source": [
    "beers.columns"
   ]
  },
  {
   "cell_type": "markdown",
   "id": "bbc1dc27",
   "metadata": {},
   "source": [
    "## Quantitative vs. categorical data\n",
    "\n",
    "As you can see in the nice table that `pandas` printed for the\n",
    "dataframe, you have several features for each beer: the label `abv`\n",
    "corresponds to the acohol-by-volume fraction, label `ibu` refers to the\n",
    "international bitterness unit (IBU), then you have the `name` of the beer\n",
    "and the `style`, the brewery ID number, and the liquid volume of the\n",
    "beer can, in ounces.\n",
    "\n",
    "Alcohol-by-volume is a numeric feature: a volume fraction, with possible\n",
    "values from 0 to 1 (sometimes also given as a percentage). In the first\n",
    "10 rows of your dataframe, the `ibu` value is missing (all those `NaN`s),\n",
    "but you saw in the previous lesson that `ibu` is also a numeric feature,\n",
    "with values that go from a minimum of 4 to a maximum of 138 (in your data\n",
    "set). IBU is pretty mysterious: how do you measure the bitterness of\n",
    "beer? It turns out that bitterness is measured as parts per million of\n",
    "_isohumulone_, the acid found in hops [2]. \n",
    "\n",
    "For these numeric features, you learned that you can get an idea of the\n",
    "_central tendency_ in the data using the **mean value**, and you get\n",
    "ideas of _spread_ of the data with the **standard deviation** (and also\n",
    "with the range, but standard deviation is the most common).\n",
    "\n",
    "Notice that the beer data also has a feature named `style`: it can be\n",
    "\"American IPA\" or \"American Porter\" or a bunch of other styles of beer.\n",
    "If you want to study the beers according to style, you'll have to come up\n",
    "with some new ideas, because you can't take the mean or standard\n",
    "deviation of this feature!\n",
    "\n",
    "**Quantitative data** have meaning through a numeric feature, either on\n",
    "a continuous scale (like a fraction from 0 to 1), or a discrete count.\n",
    "**Categorical data**, in contrast, have meaning through a qualitative\n",
    "feature (like the style of beer). Data in this form can be collected in\n",
    "groups (categories), and then you can count the number of data items in\n",
    "that group. For example, you could ask how many beers (in your set) are of\n",
    "the style \"American IPA,\" or ask how many beers you have in each style."
   ]
  },
  {
   "cell_type": "markdown",
   "id": "1ce335a8",
   "metadata": {},
   "source": [
    "## Visualizing quantitative data\n",
    "\n",
    "In the previous lesson, you played around a bit with the `abv` and `ibu`\n",
    "columns of the dataframe `beers`. For each of these columns, you \n",
    "extracted it from the dataframe and saved it into a `pandas` series,\n",
    "then you used the `dropna()` method to get rid of null values. This\n",
    "\"clean\" data was your starting point for some exploratory data analysis,\n",
    "and for plotting the data distributions using **histograms**. Here, you \n",
    "will add a few more ingredients to your recipes for data exploration, and\n",
    "you'll learn about a new type of visualization: the **box plot**.\n",
    "\n",
    "Let's repeat here the process for extracting and cleaning the two series, and getting the values into NumPy arrays:"
   ]
  },
  {
   "cell_type": "code",
   "execution_count": 6,
   "id": "a36e6d02",
   "metadata": {},
   "outputs": [],
   "source": [
    "#Repeat cleaning values abv\n",
    "abv_series = beers['abv']\n",
    "abv_clean = abv_series.dropna()\n",
    "abv = abv_clean.values"
   ]
  },
  {
   "cell_type": "code",
   "execution_count": 7,
   "id": "c04493e6",
   "metadata": {},
   "outputs": [],
   "source": [
    "#Repeat cleaning values ibu\n",
    "ibu_series = beers['ibu']\n",
    "ibu_clean = ibu_series.dropna()\n",
    "ibu = ibu_clean.values"
   ]
  },
  {
   "cell_type": "markdown",
   "id": "9713bc3e",
   "metadata": {},
   "source": [
    "Let's also repeat a histogram plot for the `abv` variable, but this time choose to plot just 10 bins (you'll see why in a moment)."
   ]
  },
  {
   "cell_type": "code",
   "execution_count": 8,
   "id": "ddcebe5f",
   "metadata": {},
   "outputs": [
    {
     "data": {
      "image/png": "[encoded data removed]",
      "text/plain": [
       "<Figure size 432x288 with 1 Axes>"
      ]
     },
     "metadata": {
      "filenames": {
       "image/png": "/home/ryan/Documents/UConn/ME3255/computational-mechanics/_build/jupyter_execute/module_02/02_Seeing_Stats_15_0.png"
      }
     },
     "output_type": "display_data"
    }
   ],
   "source": [
    "plt.figure(figsize=(6,4))\n",
    "plt.hist(abv, bins=10, color='b', histtype='bar', edgecolor='w') \n",
    "plt.title('Alcohol by Volume (abv) \\n')\n",
    "plt.xlabel('abv')\n",
    "plt.ylabel('Frequency');"
   ]
  },
  {
   "cell_type": "markdown",
   "id": "6ebb38ff",
   "metadata": {},
   "source": [
    "You can tell that the most frequent values of `abv` fall in the bin just\n",
    "above 0.05 (5% alcohol), and the bin below. The mean value of your data\n",
    "is 0.06, which happens to be within the top-frequency bin, but data is\n",
    "not always so neat (sometimes, extreme values weigh heavily on the\n",
    "mean). Note also that you have a _right skewed_ distribution, with\n",
    "higher-frequency bins occuring in the lower end of the range than in the\n",
    "higher end.\n",
    "\n",
    "If you played around with the bin sizes in the previous lesson, you might have noticed that with a lot of bins, it becomes harder to visually pick out the patterns in the data. But if you use too few bins, the plot is also unhelpful. What number of bins is just right? Well, it depends on your data, so you'll just have to experiment and use your best judgement."
   ]
  },
  {
   "cell_type": "markdown",
   "id": "f2ffb7de",
   "metadata": {},
   "source": [
    "Let's learn a new trick. It turns out that `pandas` has built-in methods to make histograms directly from columns of a dataframe! (It uses Matplotlib internally for that.) The syntax is short and sweet:\n",
    "\n",
    "```\n",
    "dataframe.hist(column='label')\n",
    "```\n",
    "\n",
    "And `pandas` plots a pretty nice histogram without help. You can add optional parameters to set these to your liking; see the [documentation](https://pandas.pydata.org/pandas-docs/stable/generated/pandas.DataFrame.hist.html). Check it out, and compare with your previous plot."
   ]
  },
  {
   "cell_type": "code",
   "execution_count": 9,
   "id": "c46605d6",
   "metadata": {},
   "outputs": [
    {
     "data": {
      "image/png": "[encoded data removed]",
      "text/plain": [
       "<Figure size 432x288 with 1 Axes>"
      ]
     },
     "metadata": {
      "filenames": {
       "image/png": "/home/ryan/Documents/UConn/ME3255/computational-mechanics/_build/jupyter_execute/module_02/02_Seeing_Stats_18_0.png"
      }
     },
     "output_type": "display_data"
    }
   ],
   "source": [
    "beers.hist(column='abv', edgecolor='white')\n",
    "plt.title('Alcohol by Volume (abv) \\n');"
   ]
  },
  {
   "cell_type": "markdown",
   "id": "532d71ae",
   "metadata": {},
   "source": [
    "Which one do you like better? Well, the `pandas` histogram took fewer lines of code to create.  And it doesn't look bad at all. But you do have more fine-grained control with Matplotlib. Which method you choose in a real situation will just depend on the situation and your preference."
   ]
  },
  {
   "cell_type": "markdown",
   "id": "cb67c62f",
   "metadata": {},
   "source": [
    "### Exploring quantitative data (continued)\n",
    "\n",
    "In the [previous lesson](./01_Cheers_Stats_Beers), you learned how to compute the mean of the data using `np.mean()`. How easy is that? But then you wrote your own custom functions to compute variance or standard deviation. There are some standard numpy libraries that you can use instead. \n",
    "\n",
    "\n",
    "##### Exercise:\n",
    "\n",
    "* Go to the documentation of [`np.var()`](https://docs.scipy.org/doc/numpy-1.13.0/reference/generated/numpy.var.html) and analyze if this function is computing the _sample variance_. \n",
    "__Hint__: Check what it says about the \"data degrees of freedom.\"\n",
    "\n",
    "If you did the reading, you might have noticed that, by default, the argument `ddof` in `np.var()` is set to zero. If you use the default option, then you are not really calculating the sample variance. Recall from the previous lesson that the **sample variance** is:\n",
    "\n",
    "$$\n",
    "\\begin{equation*}     \n",
    "     \\text{var}_{sample} = \\frac{1}{N-1}\\sum_{i} (x_i - \\bar{x})^2\n",
    "\\end{equation*}\n",
    "$$\n",
    "\n",
    "Therefore, you need to be explicit about the division by $N-1$ when calling `np.var()`. How do you do that? you explicitly set `ddof` to `1`.  \n",
    "\n",
    "For example, to compute the sample variance for your `abv` variable, you do:"
   ]
  },
  {
   "cell_type": "code",
   "execution_count": null,
   "id": "9ff87b5a",
   "metadata": {},
   "outputs": [],
   "source": []
  },
  {
   "cell_type": "markdown",
   "id": "8eb810a7",
   "metadata": {},
   "source": [
    "Now, you can compute the standard deviation by taking the square root of `var_abv`:"
   ]
  },
  {
   "cell_type": "code",
   "execution_count": 10,
   "id": "72bdabcf",
   "metadata": {},
   "outputs": [
    {
     "ename": "NameError",
     "evalue": "name 'var_abv' is not defined",
     "output_type": "error",
     "traceback": [
      "\u001b[0;31m---------------------------------------------------------------------------\u001b[0m",
      "\u001b[0;31mNameError\u001b[0m                                 Traceback (most recent call last)",
      "\u001b[0;32m<ipython-input-10-17beaeecaa78>\u001b[0m in \u001b[0;36m<module>\u001b[0;34m\u001b[0m\n\u001b[0;32m----> 1\u001b[0;31m \u001b[0mstd_abv\u001b[0m \u001b[0;34m=\u001b[0m \u001b[0mnp\u001b[0m\u001b[0;34m.\u001b[0m\u001b[0msqrt\u001b[0m\u001b[0;34m(\u001b[0m\u001b[0mvar_abv\u001b[0m\u001b[0;34m)\u001b[0m\u001b[0;34m\u001b[0m\u001b[0;34m\u001b[0m\u001b[0m\n\u001b[0m\u001b[1;32m      2\u001b[0m \u001b[0mprint\u001b[0m\u001b[0;34m(\u001b[0m\u001b[0mstd_abv\u001b[0m\u001b[0;34m)\u001b[0m\u001b[0;34m\u001b[0m\u001b[0;34m\u001b[0m\u001b[0m\n",
      "\u001b[0;31mNameError\u001b[0m: name 'var_abv' is not defined"
     ]
    }
   ],
   "source": [
    "std_abv = np.sqrt(var_abv)\n",
    "print(std_abv)"
   ]
  },
  {
   "cell_type": "markdown",
   "id": "a5b576bf",
   "metadata": {},
   "source": [
    "You might be wondering if there is a built-in function for the standard deviation in NumPy. Go on and search online and try to find something.\n",
    "\n",
    "**Spoiler alert!**\n",
    "You will. \n",
    "\n",
    "## Exercise:\n",
    "\n",
    "1. Read the documentation about the NumPy standard deviation function, compute the standard deviation for `abv` using this function, and check that you obtained the same value than if you take the square root of the variance computed with NumPy.\n",
    "\n",
    "2. Compute the variance and standard deviation for the variable `ibu`."
   ]
  },
  {
   "cell_type": "code",
   "execution_count": null,
   "id": "cab2118e",
   "metadata": {},
   "outputs": [],
   "source": [
    "?np.std"
   ]
  },
  {
   "cell_type": "code",
   "execution_count": null,
   "id": "8ec15672",
   "metadata": {},
   "outputs": [],
   "source": [
    "np.std(abv,ddof=1)"
   ]
  },
  {
   "cell_type": "markdown",
   "id": "c716754d",
   "metadata": {},
   "source": [
    "### Median value\n",
    "\n",
    "So far, you've learned to characterize quantitative data using the mean, variance and standard deviation.\n",
    "\n",
    "If you watched Prof. Sainani's lecture [Describing Quantitative Data: Where is the center?](https://youtu.be/tQ5slNYRcC4) (recommended in your previous lesson), you'll recall that she also introduced the **median**: the middle value in the data, the value that separates your data set in half. (If there's an even number of data values, you take the average between the two middle values.)\n",
    "\n",
    "As you may anticipate, NumPy has a built-in function that computes the median, helpfully named [`numpy.median()`](https://docs.scipy.org/doc/numpy-1.13.0/reference/generated/numpy.median.html). \n",
    "\n",
    "##### Exercise:\n",
    "\n",
    "Using NumPy, compute the median for your variables `abv` and `ibu`. Compare the median with the mean, and look at the histogram to locate where the values fall on the x-axis."
   ]
  },
  {
   "cell_type": "markdown",
   "id": "b7e2bde2",
   "metadata": {},
   "source": [
    "### Box plots\n",
    "\n",
    "Another handy way to visualize the distribution of quantitative data is using **box plots**. By \"distribution\" of the data, you mean some idea of the dataset's \"shape\": where is the center, what is the range, what is the variation in the data. \n",
    "Histograms are the most popular type of plots in exploratory data analysis. But check out box plots: they are easy to make with `pyplot`:"
   ]
  },
  {
   "cell_type": "code",
   "execution_count": null,
   "id": "67aeeece",
   "metadata": {},
   "outputs": [],
   "source": [
    "plt.boxplot(abv, labels=['Alcohol by volume']);"
   ]
  },
  {
   "cell_type": "code",
   "execution_count": null,
   "id": "59a8ca32",
   "metadata": {},
   "outputs": [],
   "source": [
    "plt.boxplot(ibu, labels=['International bitterness unit']);"
   ]
  },
  {
   "cell_type": "markdown",
   "id": "d18fd04e",
   "metadata": {},
   "source": [
    "What is going on here? Obviously, there is a _box_: it represents 50% of the data in the middle of the data range, with the line across it (here, in orange) indicating the _median_. \n",
    "\n",
    "The bottom of the box is at the 25th _percentile_, while the top of the box is at the 75th percentile. In other words, the bottom 25% of the data falls below the box, and the top 25% of the data falls above the box."
   ]
  },
  {
   "cell_type": "markdown",
   "id": "df03b9b4",
   "metadata": {},
   "source": [
    "_Confused by percentiles?_\n",
    "The Nth percentile is the value below which N% of the observations fall. \n",
    "\n",
    "Recall the bell curve from your previous lesson: you said that 95% of the data falls at a distance $\\pm 2 \\sigma$ from the mean. This implies that 5% of the data (the rest) falls in the (symmetrical) tails, which in turn implies that the 2.5 percentile is at $-2\\sigma$ from the mean, and the 97.5 percentile is at $+2\\sigma$ from the mean.\n",
    "\n",
    "The percentiles 25, 50, and 75 are also named _quartiles_, since they divide the data into quarters. They are named first (Q1), second (Q2 or median) and third quartile (Q3), respectively. \n",
    "\n",
    "Fortunately, NumPy has a function to compute percentiles and you can do it in just one line. Let's use [`np.percentile()`](https://docs.scipy.org/doc/numpy-dev/reference/generated/np.percentile.html) to compute the `abv` and `ibu`  quartiles. \n",
    "\n",
    "** abv quartiles **"
   ]
  },
  {
   "cell_type": "code",
   "execution_count": null,
   "id": "104668be",
   "metadata": {},
   "outputs": [],
   "source": [
    "Q1_abv = np.percentile(abv, q=25)\n",
    "Q2_abv = np.percentile(abv, q=50)\n",
    "Q3_abv = np.percentile(abv, q=75)\n",
    "\n",
    "print('The first quartile for abv is {}'.format(Q1_abv))\n",
    "print('The second quartile for abv is {}'.format(Q2_abv))\n",
    "print('The third quartile for abv is {}'.format(Q3_abv))"
   ]
  },
  {
   "cell_type": "markdown",
   "id": "9c2ac38c",
   "metadata": {},
   "source": [
    "**ibu quartiles**\n",
    "\n",
    "You can also pass a list of percentiles to `np.percentile()` and calculate several of them in one go. For example, to compute the quartiles of `ibu`, you do:"
   ]
  },
  {
   "cell_type": "code",
   "execution_count": null,
   "id": "ef7a31a5",
   "metadata": {},
   "outputs": [],
   "source": [
    "quartiles_ibu = np.percentile(ibu, q=[25, 50, 75])\n",
    "\n",
    "print('The first quartile for ibu is {}'.format(quartiles_ibu[0]))\n",
    "print('The second quartile for ibu is {}'.format(quartiles_ibu[1]))\n",
    "print('The third quartile for ibu is {}'.format(quartiles_ibu[2]))"
   ]
  },
  {
   "cell_type": "markdown",
   "id": "9aefc60b",
   "metadata": {},
   "source": [
    "OK, back to box plots. The height of the box—between the 25th and 75th percentile—is called the _interquartile range_ (IQR). Outside the box, you have two vertical lines—the so-called \"whiskers\" of the box plot—which used to be called \"box and whiskers plot\" [3]. \n",
    "\n",
    "The whiskers extend to the upper and lower extremes (short horizontal lines). The extremes follow the following rules: \n",
    "\n",
    "* Top whisker: lower value between the **maximum** and `Q3 + 1.5 x IQR`. \n",
    "* Bottom whisker: higher value between the **minimum** and `Q1 - 1.5 x IQR`\n",
    "\n",
    "Any data values beyond the upper and lower extremes are shown with a marker (here, small circles) and are an indication of outliers in the data."
   ]
  },
  {
   "cell_type": "markdown",
   "id": "6a912509",
   "metadata": {},
   "source": [
    "##### Exercise:\n",
    "\n",
    "Calculate the end-points of the top and bottom whiskers for both the `abv` and `ibu` variables, and compare the results with the whisker end-points you see in the plot."
   ]
  },
  {
   "cell_type": "code",
   "execution_count": null,
   "id": "4d201d3b",
   "metadata": {},
   "outputs": [],
   "source": [
    "IQR = quartiles_ibu[2]-quartiles_ibu[0]\n",
    "TW = np.min([np.max(ibu),quartiles_ibu[2]+1.5*IQR])\n",
    "BW = np.max([np.min(ibu),quartiles_ibu[0]-1.5*IQR])\n",
    "\n",
    "print('ibu:\\n----------------')\n",
    "print('top whisker = {:.1f} ibu'.format(TW))\n",
    "print('bottom whisker = {:.1f} ibu'.format(BW))\n",
    "\n",
    "quartiles_abv = np.percentile(abv, q=[25, 50, 75])\n",
    "\n",
    "IQR = quartiles_abv[2]-quartiles_abv[0]\n",
    "TW = np.min([np.max(abv),quartiles_abv[2]+1.5*IQR])\n",
    "BW = np.max([np.min(abv),quartiles_abv[0]-1.5*IQR])\n",
    "\n",
    "print('\\nabv:\\n----------------')\n",
    "print('top whisker = {:.1f}% abv'.format(TW*100))\n",
    "print('bottom whisker = {:.1f}% abv'.format(BW*100))"
   ]
  },
  {
   "cell_type": "markdown",
   "id": "6a64d9af",
   "metadata": {},
   "source": [
    "##### A bit of history:\n",
    "\n",
    "\"Box-and-whiskers\" plots were invented by John Tukey over 45 years ago. Tukey was a famous mathematician/statistician who is credited with coining the words _software_ and _bit_ [4]. He was active in the efforts to break the _Enigma_ code during WWII, and worked at Bell Labs in the first surface-to-air guided missile (\"Nike\"). A classic 1947 work on early design of the electonic computer acknowledged Tukey: he designed the electronic circuit for computing addition. Tukey was also a long-time advisor for the US Census Bureau, and a consultant for the Educational Testing Service (ETS), among many other contributions [5].\n",
    "\n",
    "##### Note:\n",
    "\n",
    "Box plots are also drawn horizontally. Often, several box plots are drawn side-by-side with the purpose of comparing distributions."
   ]
  },
  {
   "cell_type": "markdown",
   "id": "2acc2f0f",
   "metadata": {},
   "source": [
    "## Visualizing categorical data\n",
    "\n",
    "The typical method of visualizing categorical data is using **bar plots**. These show visually the frequency of appearance of items in each category, or the proportion of data in each category. Suppose you wanted to know how many beers of the same style are in your data set. Remember: the _style_ of the beer is an example of _categorical data_. Let's extract the column with the style information from the `beers` dataframe, assign it to a variable named `style_series`, check the type of this variable, and view the first 10 elements."
   ]
  },
  {
   "cell_type": "code",
   "execution_count": null,
   "id": "1241c59c",
   "metadata": {},
   "outputs": [],
   "source": [
    "style_series = beers['style']"
   ]
  },
  {
   "cell_type": "code",
   "execution_count": null,
   "id": "9d52ab11",
   "metadata": {},
   "outputs": [],
   "source": [
    "type(style_series)"
   ]
  },
  {
   "cell_type": "code",
   "execution_count": null,
   "id": "b5e61907",
   "metadata": {},
   "outputs": [],
   "source": [
    "style_series.unique()"
   ]
  },
  {
   "cell_type": "markdown",
   "id": "118c0d44",
   "metadata": {},
   "source": [
    "Already in the first 10 elements you see that you have two beers of the style \"American IPA,\" two beers of the style \"American Pale Ale (APA),\" but only one beer of the style \"Oatmeal Stout.\" The question is: how many beers of each style are contained in the whole series?"
   ]
  },
  {
   "cell_type": "markdown",
   "id": "bcef1387",
   "metadata": {},
   "source": [
    "Luckily, `pandas` has a built-in function to answer that question: [`series.value_counts()`](https://pandas.pydata.org/pandas-docs/stable/generated/pandas.Series.value_counts.html) (where `series` is the variable name of the `pandas` series you want the counts for). Let's try it on your `style_series`, and save the result in a new variable named `style_counts`."
   ]
  },
  {
   "cell_type": "code",
   "execution_count": null,
   "id": "57ef5bce",
   "metadata": {},
   "outputs": [],
   "source": [
    "style_counts = style_series.value_counts()\n",
    "print(style_counts[-50:])"
   ]
  },
  {
   "cell_type": "code",
   "execution_count": null,
   "id": "fd824bde",
   "metadata": {},
   "outputs": [],
   "source": [
    "type(style_counts)"
   ]
  },
  {
   "cell_type": "code",
   "execution_count": null,
   "id": "a8c54cea",
   "metadata": {},
   "outputs": [],
   "source": [
    "len(style_counts)"
   ]
  },
  {
   "cell_type": "markdown",
   "id": "a98c584d",
   "metadata": {},
   "source": [
    "The `len()` function tells us that `style_counts` has 99 elements. That is, there are a total of 99 styles of beer in your data set. Wow, that's a lot!\n",
    "\n",
    "Notice that `value_counts()` returned the counts sorted in decreasing order: the most popular beer in your data set is \"American IPA\" with 424 entries in our data. The next-most popular beer is \"American Pale Ale (APA)\" with a lot fewer entries (245), and the counts decrease sharply after that. Naturally, you'd like to know how much more popular are the top-2 beers from the rest. Bar plot to the rescue!"
   ]
  },
  {
   "cell_type": "markdown",
   "id": "19fda1d3",
   "metadata": {},
   "source": [
    "Below, you'll draw a horizontal bar plot directly with `pandas` (which uses Matplotlib internally) using the [`plot.barh()`](https://pandas.pydata.org/pandas-docs/stable/generated/pandas.Series.plot.barh.html) method for series. We'll only show the first 20 beers, because otherwise you'll get a huge plot. This plot gives us a clear visualization of the popularity ranking of beer styles in the US!"
   ]
  },
  {
   "cell_type": "code",
   "execution_count": null,
   "id": "2f0b927f",
   "metadata": {},
   "outputs": [],
   "source": [
    "style_counts[0:20].plot.barh(figsize=(10,8), color='#008367', edgecolor='gray');"
   ]
  },
  {
   "cell_type": "markdown",
   "id": "c77c16d3",
   "metadata": {},
   "source": [
    "## Visualizing multiple data\n",
    "\n",
    "These visualizations are really addictive! We're now getting ambitious: what if you wanted to show more than one feature, together on the same plot? What if you wanted to get insights about the relationship between two features through a multi-variable plot? \n",
    "\n",
    "For example, you can explore the relationship between bitterness of beers and the alcohol-by-volume fraction."
   ]
  },
  {
   "cell_type": "markdown",
   "id": "8296b1c6",
   "metadata": {},
   "source": [
    "### Scatter plots\n",
    "\n",
    "Maybe you can do this: imagine a plot that has the alcohol-by-volume on the absissa, and the IBU value on the ordinate. For each beer, you can place a dot on this plot with its `abv` and `ibu` values as $(x, y)$ coordinates. This is called a **scatter plot**.\n",
    "\n",
    "We run into a bit of a problem, though. The way you handled the beer data above, you extracted the column for `abv` into a series, dropped the null entries, and saved the values into a NumPy array. You then repeated this process for the `ibu` column. Because a lot more `ibu` values are missing, you ended up with two arrays of different length: 2348 entries for the `abv` series, and 1405 entries for the `ibu` series. If you want to make a scatter plot with these two features, you'll need series (or arrays) of the same length.\n",
    "\n",
    "Let's instead clean the whole `beers` dataframe (which will completely remove any row that has a null entry), and _then_ extract the values of the two series into NumPy arrays."
   ]
  },
  {
   "cell_type": "code",
   "execution_count": null,
   "id": "21ee498a",
   "metadata": {},
   "outputs": [],
   "source": [
    "beers_clean = beers.dropna()"
   ]
  },
  {
   "cell_type": "code",
   "execution_count": null,
   "id": "09f17d60",
   "metadata": {},
   "outputs": [],
   "source": [
    "ibu = beers_clean['ibu'].values\n",
    "len(ibu)"
   ]
  },
  {
   "cell_type": "code",
   "execution_count": null,
   "id": "a1c3b24c",
   "metadata": {},
   "outputs": [],
   "source": [
    "abv = beers_clean['abv'].values\n",
    "len(abv)"
   ]
  },
  {
   "cell_type": "markdown",
   "id": "32954da7",
   "metadata": {},
   "source": [
    "Notice that both arrays now have 1403 entries—not 1405 (the length of the clean `ibu` data), because two rows that had a non-null `ibu` value _did_ have a null `abv` value and were dropped."
   ]
  },
  {
   "cell_type": "markdown",
   "id": "bbce5032",
   "metadata": {},
   "source": [
    "With the two arrays of the same length, you can now call the [`pyplot.scatter()`](https://matplotlib.org/devdocs/api/_as_gen/matplotlib.pyplot.scatter.html) function."
   ]
  },
  {
   "cell_type": "code",
   "execution_count": null,
   "id": "78e48503",
   "metadata": {},
   "outputs": [],
   "source": [
    "plt.figure(figsize=(8,8))\n",
    "plt.scatter(abv, ibu, color='#3498db') \n",
    "plt.title('Scatter plot of alcohol-by-volume vs. IBU \\n')\n",
    "plt.xlabel('abv')\n",
    "plt.ylabel('IBU');"
   ]
  },
  {
   "cell_type": "markdown",
   "id": "6c7d21ff",
   "metadata": {},
   "source": [
    "Hmm. That's a bit of a mess. Too many dots! But you do make out that the beers with low alcohol-by-volume tend to have low bitterness. For higher alcohol fraction, the beers can be anywhere on the bitterness scale: there's a lot of vertical spread on those dots to the right of the plot. \n",
    "\n",
    "An idea! What if the bitterness has something to do with _style_?"
   ]
  },
  {
   "cell_type": "markdown",
   "id": "6d16c5d2",
   "metadata": {},
   "source": [
    "### Bubble chart\n",
    "\n",
    "What you imagined is that you could group together the beers by style, and then make a new scatter plot where each marker corresponds to a style. The beers within a style, though, have many values of alcohol fraction and bitterness: you have to come up with a \"summary value\" for each style. Well, why not the _mean_… you can calculate the average `abv` and the average `ibu` for all the beers in each style, use that pair as $(x,y)$ coordinate, and put a dot there representing the style. \n",
    "\n",
    "Better yet! We'll make the size of the \"dot\" proportional to the popularity of the style in your data set! This is called a **bubble chart**.\n",
    "\n",
    "How to achieve this idea? you searched online for \"mean of a column with pandas\" and you landed in [`dataframe.mean()`](https://pandas.pydata.org/pandas-docs/stable/generated/pandas.DataFrame.mean.html). This could be helpful… But you don't want the mean of a _whole_ column—we want the mean of the column values grouped by _style_. Searching online again, you landed in [`dataframe.groupby()`](https://pandas.pydata.org/pandas-docs/stable/generated/pandas.DataFrame.groupby.html). This is amazing: `pandas` can group a series for you! \n",
    "\n",
    "Here's what you want to do: group beers by style, then compute the mean of `abv` and `ibu` in the groups. You experimented with `beers_clean.groupby('style').mean()` and were amazed… However, one thing was bothersome: `pandas` computed the mean (by style) of every column, including the `id` and `brewery_id`, which have no business being averaged. So you decided to first drop the columns you don't need, leaving only `abv`, `ibu` and `style`. You can use the [`dataframe.drop()`](https://pandas.pydata.org/pandas-docs/stable/generated/pandas.DataFrame.drop.html) method for that. Check it out!"
   ]
  },
  {
   "cell_type": "code",
   "execution_count": null,
   "id": "b0f68ea1",
   "metadata": {},
   "outputs": [],
   "source": [
    "beers_styles = beers_clean.drop(['Unnamed: 0','name','brewery_id','ounces','id'], axis=1)"
   ]
  },
  {
   "cell_type": "markdown",
   "id": "9475f39f",
   "metadata": {},
   "source": [
    "We now have a dataframe with only the numeric features `abv` and `ibu`, and the categorical feature `style`. Let's find out how many beers you have of each style—you'd like to use this information to set the size of the style bubbles."
   ]
  },
  {
   "cell_type": "code",
   "execution_count": null,
   "id": "db86e5bb",
   "metadata": {},
   "outputs": [],
   "source": [
    "style_counts = beers_styles['style'].value_counts()"
   ]
  },
  {
   "cell_type": "code",
   "execution_count": null,
   "id": "37c52bfa",
   "metadata": {},
   "outputs": [],
   "source": [
    "type(style_counts)"
   ]
  },
  {
   "cell_type": "code",
   "execution_count": null,
   "id": "9c25d5e6",
   "metadata": {},
   "outputs": [],
   "source": [
    "len(style_counts)"
   ]
  },
  {
   "cell_type": "markdown",
   "id": "fe4eaee9",
   "metadata": {},
   "source": [
    "The number of beers in each style appears on each row of `style_counts`, sorted in decreasing order of count. You have 90 different styles, and the most popular style is the \"American IPA,\" with 301 beers…\n",
    "\n",
    "##### Discuss with your neighbor:\n",
    "\n",
    "* What happened? you used to have 99 styles and 424 counts in the \"American IPA\" style. Why is it different now?"
   ]
  },
  {
   "cell_type": "markdown",
   "id": "acfdc55c",
   "metadata": {},
   "source": [
    "OK. You want to characterize each style of beer with the _mean values_ of the numeric features, `abv` and `ibu`, within that style. Let's get those means."
   ]
  },
  {
   "cell_type": "code",
   "execution_count": null,
   "id": "b70bf8af",
   "metadata": {},
   "outputs": [],
   "source": [
    "style_means = beers_styles.groupby('style').mean()"
   ]
  },
  {
   "cell_type": "code",
   "execution_count": null,
   "id": "ec81607c",
   "metadata": {},
   "outputs": [],
   "source": [
    "style_means"
   ]
  },
  {
   "cell_type": "markdown",
   "id": "03162a01",
   "metadata": {},
   "source": [
    "Looking good! you have the information you need: the average `abv` and `ibu` by style, and the counts by style. The only problem is that `style_counts` is sorted by decreasing count value, while `style_means` is sorted alphabetically by style. Ugh."
   ]
  },
  {
   "cell_type": "markdown",
   "id": "a3b3863f",
   "metadata": {},
   "source": [
    "Notice that `style_means` is a dataframe that is now using the style string as a _label_ for each row. Meanwhile, `style_counts` is a `pandas` series, and it also uses the style as label or index to each element.\n",
    "\n",
    "More online searching and you find the [`series.sort_index()`](https://pandas.pydata.org/pandas-docs/stable/generated/pandas.Series.sort_index.html) method. It will sort your style counts in alphabetical order of style, which is what you want."
   ]
  },
  {
   "cell_type": "code",
   "execution_count": null,
   "id": "abe3a9bb",
   "metadata": {},
   "outputs": [],
   "source": [
    "style_counts = style_counts.sort_index()"
   ]
  },
  {
   "cell_type": "code",
   "execution_count": null,
   "id": "3118d6ff",
   "metadata": {},
   "outputs": [],
   "source": [
    "style_counts[0:10]"
   ]
  },
  {
   "cell_type": "markdown",
   "id": "155997f0",
   "metadata": {},
   "source": [
    "Above, you used Matplotlib to create a scatter plot using two NumPy arrays as the `x` and `y` parameters. Like you saw previously with histograms, `pandas` also has available some plotting methods (calling Matplotlib internally). Scatter plots made easy!"
   ]
  },
  {
   "cell_type": "code",
   "execution_count": null,
   "id": "5bf8de12",
   "metadata": {},
   "outputs": [],
   "source": [
    "style_means.plot.scatter(figsize=(8,8), \n",
    "                         x='abv', y='ibu', s=style_counts, \n",
    "                         title='Beer ABV vs. IBU mean values by style');"
   ]
  },
  {
   "cell_type": "markdown",
   "id": "92895496",
   "metadata": {},
   "source": [
    "That's rad! Perhaps the bubbles are too small. You could multiply the `style_counts` by a factor of 5, or maybe 10? You should experiment."
   ]
  },
  {
   "cell_type": "markdown",
   "id": "cb644e02",
   "metadata": {},
   "source": [
    "But you are feeling gung-ho about this now, and decided to find a way to make the _color_ of the bubbles also vary with the style counts. Below, you import the [`colormap`](https://matplotlib.org/api/cm_api.html) module of Matplotlib, and you set your colors using the [_viridis_ colormap](https://matplotlib.org/examples/color/colormaps_reference.html) on the values of `style_counts`, then you repeat the plot with these colors on the bubbles and some transparency. _What do you think?_"
   ]
  },
  {
   "cell_type": "code",
   "execution_count": null,
   "id": "250ceaa6",
   "metadata": {},
   "outputs": [],
   "source": [
    "from matplotlib import cm\n",
    "colors = cm.viridis(style_counts.values)"
   ]
  },
  {
   "cell_type": "code",
   "execution_count": null,
   "id": "a8c27690",
   "metadata": {},
   "outputs": [],
   "source": [
    "style_means.plot.scatter(figsize=(10,10), \n",
    "                         x='abv', y='ibu', s=style_counts*20, color=colors,\n",
    "                         title='Beer ABV vs. IBU mean values by style\\n',\n",
    "                         alpha=0.3); #alpha sets the transparency"
   ]
  },
  {
   "cell_type": "markdown",
   "id": "8b536530",
   "metadata": {},
   "source": [
    "It looks like the most popular beers do follow a linear relationship between alcohol fraction and IBU. You learned a lot about beer without having a sip!"
   ]
  },
  {
   "cell_type": "markdown",
   "id": "a3ae3c1c",
   "metadata": {},
   "source": [
    "_Wait... one more thing!_ What if you add a text label next to the bigger bubbles, to identify the style? \n",
    "\n",
    "OK, here you go a bit overboard, but you couldn't help it. You played around a lot to get this version of the plot. It uses `enumerate` to get pairs of indices and values from a list of style names; an `if` statement to select only the large-count styles; and the [`iloc[]`](http://pandas.pydata.org/pandas-docs/version/0.17.0/generated/pandas.DataFrame.iloc.html) slicing method of `pandas` to get a slice based on index position, and extract `abv` and `ibu` values to an $(x,y)$ coordinate for placing the annotation text. _Are you overkeen or what!_"
   ]
  },
  {
   "cell_type": "code",
   "execution_count": null,
   "id": "cdac163f",
   "metadata": {},
   "outputs": [],
   "source": [
    "ax = style_means.plot.scatter(figsize=(10,10), \n",
    "                               x='abv', y='ibu', s=style_counts*20, color=colors,\n",
    "                               title='Beer ABV vs. IBU mean values by style\\n',\n",
    "                               alpha=0.3);\n",
    "\n",
    "for i, txt in enumerate(list(style_counts.index.values)):\n",
    "    if style_counts.values[i] > 65:\n",
    "        ax.annotate(txt, (style_means.abv.iloc[i],style_means.ibu.iloc[i]), fontsize=12)"
   ]
  },
  {
   "cell_type": "markdown",
   "id": "1ec4e444",
   "metadata": {},
   "source": [
    "## What you've learned\n",
    "\n",
    "* You should always plot your data.\n",
    "* The concepts of quantitative and categorical data.\n",
    "* Plotting histograms directly on columns of dataframes, using `pandas`.\n",
    "* Computing variance and standard deviation using NumPy built-in functions.\n",
    "* The concept of median, and how to compute it with NumPy.\n",
    "* Making box plots using `pyplot`.\n",
    "* Five statistics of a box plot: the quartiles Q1, Q2 (median) and Q3 (and  interquartile range Q3$-$Q1), upper and lower extremes.\n",
    "* Visualizing categorical data with bar plots.\n",
    "* Visualizing multiple data with scatter plots and bubble charts.\n",
    "* `pandas` is awesome!"
   ]
  },
  {
   "cell_type": "markdown",
   "id": "f8789ba1",
   "metadata": {},
   "source": [
    "## References\n",
    "\n",
    "1. [Craft beer datatset](https://github.com/nickhould/craft-beers-dataset) by Jean-Nicholas Hould.\n",
    "2. [What's The Meaning Of IBU?](https://beerconnoisseur.com/articles/whats-meaning-ibu) by Jim Dykstra for The Beer Connoisseur (2015).\n",
    "3. 40 years of boxplots (2011). Hadley Wickham and Lisa Stryjewski, _Am. Statistician_. [PDF available](http://vita.had.co.nz/papers/boxplots.pdf)\n",
    "4. [John Wilder Tukey](https://www.britannica.com/biography/John-Wilder-Tukey), Encyclopædia Britannica.\n",
    "5. John W. Tukey: His life and professional contributions (2002). David R. Brillinger, _Ann. Statistics_. [PDF available](https://www.stat.berkeley.edu/~brill/Papers/life.pdf)"
   ]
  },
  {
   "cell_type": "markdown",
   "id": "e0720a8a",
   "metadata": {},
   "source": [
    "# Problems\n",
    "\n",
    "1. Many beers do not report the IBU of the beer because it is very\n",
    "small. You may be accidentally removing whole categories of beer from\n",
    "our dataset by removing rows that do not include the IBU measure. \n",
    "\n",
    "    a. Use the command `beers_filled = beers.fillna(0)` to clean the `beers` dataframe\n",
    "    \n",
    "    b. Repeat the steps above to recreate the plot \"Beer ABV vs. IBU mean values by style\" \n",
    "    scatter plot with `beers_filled`. What differences do you notice between the plots?"
   ]
  },
  {
   "cell_type": "code",
   "execution_count": null,
   "id": "4b6ae42b",
   "metadata": {},
   "outputs": [],
   "source": []
  },
  {
   "cell_type": "markdown",
   "id": "6c295212",
   "metadata": {},
   "source": [
    "2. Gordon Moore created an empirical prediction that the rate of\n",
    "semiconductors on a computer chip would double every two years. This\n",
    "prediction was known as Moore's law. Gordon Moore had originally only\n",
    "expected this empirical relation to hold from 1965 - 1975\n",
    "[[1](https://en.wikipedia.org/wiki/Moore%27s_law),[2](https://spectrum.ieee.org/computing/hardware/gordon-moore-the-man-whose-name-means-progress)],\n",
    "but semiconductor manufacturers were able to keep up with Moore's law\n",
    "until 2015. \n",
    "\n",
    "    In the folder \"../data\" is a comma separated value (CSV) file, \"transistor_data.csv\" [taken from wikipedia 01/2020](https://en.wikipedia.org/wiki/Transistor_count#Microprocessors). \n",
    "    Load the csv into a pandas dataframe, it has the following headings:\n",
    "\n",
    "    |Processor| MOS transistor count| Date of Introduction|Designer|MOSprocess|Area|\n",
    "    |---|---|---|---|---|---|\n",
    "\n",
    "    a. In the years 2017, what was the average MOS transistor count? \n",
    "    Make a boxplot of the transistor count in 2017 and find the first, second and third quartiles.\n",
    "\n",
    "    b. Create a semilog y-axis scatter plot (i.e. `plt.semilogy`) for the \n",
    "    \"Date of Introduction\" vs \"MOS transistor count\". \n",
    "    Color the data according to the \"Designer\"."
   ]
  },
  {
   "cell_type": "code",
   "execution_count": null,
   "id": "5ef5fc8f",
   "metadata": {},
   "outputs": [],
   "source": []
  }
 ],
 "metadata": {
  "jupytext": {
   "formats": "notebooks//ipynb,md:myst",
   "text_representation": {
    "extension": ".md",
    "format_name": "myst",
    "format_version": 0.13,
    "jupytext_version": "1.10.3"
   }
  },
  "kernelspec": {
   "display_name": "Python 3",
   "language": "python",
   "name": "python3"
  },
  "language_info": {
   "codemirror_mode": {
    "name": "ipython",
    "version": 3
   },
   "file_extension": ".py",
   "mimetype": "text/x-python",
   "name": "python",
   "nbconvert_exporter": "python",
   "pygments_lexer": "ipython3",
   "version": "3.9.4"
  },
  "source_map": [
   13,
   18,
   41,
   46,
   58,
   61,
   74,
   81,
   85,
   89,
   91,
   130,
   145,
   152,
   157,
   161,
   167,
   179,
   189,
   192,
   196,
   220,
   221,
   225,
   228,
   241,
   245,
   248,
   262,
   269,
   273,
   275,
   281,
   294,
   302,
   308,
   314,
   325,
   331,
   349,
   359,
   365,
   369,
   373,
   375,
   379,
   383,
   388,
   392,
   394,
   400,
   404,
   406,
   414,
   424,
   428,
   433,
   436,
   440,
   444,
   450,
   456,
   468,
   470,
   474,
   478,
   482,
   484,
   492,
   496,
   500,
   502,
   506,
   512,
   516,
   518,
   522,
   526,
   530,
   534,
   539,
   544,
   548,
   554,
   563,
   578,
   588,
   601,
   602,
   625
  ]
 },
 "nbformat": 4,
 "nbformat_minor": 5
}